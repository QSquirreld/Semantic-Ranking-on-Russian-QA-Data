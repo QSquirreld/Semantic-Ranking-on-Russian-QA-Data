{
 "cells": [
  {
   "cell_type": "markdown",
   "metadata": {
    "id": "mA9iEPOVQlMA"
   },
   "source": [
    "## Обучение ранжирующих моделей"
   ]
  },
  {
   "cell_type": "markdown",
   "metadata": {
    "id": "Y7c97yngbvZJ"
   },
   "source": [
    "## Установка библиотек"
   ]
  },
  {
   "cell_type": "code",
   "execution_count": null,
   "metadata": {
    "colab": {
     "base_uri": "https://localhost:8080/"
    },
    "collapsed": true,
    "id": "krzqDrt6QYSQ",
    "outputId": "01032ff9-52e8-4716-c548-492224defbbb"
   },
   "outputs": [
    {
     "name": "stdout",
     "output_type": "stream",
     "text": [
      "Collecting sentence-transformers==3.1.1\n",
      "  Downloading sentence_transformers-3.1.1-py3-none-any.whl.metadata (10 kB)\n",
      "Requirement already satisfied: transformers<5.0.0,>=4.38.0 in /usr/local/lib/python3.12/dist-packages (from sentence-transformers==3.1.1) (4.56.1)\n",
      "Requirement already satisfied: tqdm in /usr/local/lib/python3.12/dist-packages (from sentence-transformers==3.1.1) (4.67.1)\n",
      "Requirement already satisfied: torch>=1.11.0 in /usr/local/lib/python3.12/dist-packages (from sentence-transformers==3.1.1) (2.8.0+cu126)\n",
      "Requirement already satisfied: scikit-learn in /usr/local/lib/python3.12/dist-packages (from sentence-transformers==3.1.1) (1.6.1)\n",
      "Requirement already satisfied: scipy in /usr/local/lib/python3.12/dist-packages (from sentence-transformers==3.1.1) (1.16.2)\n",
      "Requirement already satisfied: huggingface-hub>=0.19.3 in /usr/local/lib/python3.12/dist-packages (from sentence-transformers==3.1.1) (0.35.0)\n",
      "Requirement already satisfied: Pillow in /usr/local/lib/python3.12/dist-packages (from sentence-transformers==3.1.1) (11.3.0)\n",
      "Requirement already satisfied: filelock in /usr/local/lib/python3.12/dist-packages (from huggingface-hub>=0.19.3->sentence-transformers==3.1.1) (3.19.1)\n",
      "Requirement already satisfied: fsspec>=2023.5.0 in /usr/local/lib/python3.12/dist-packages (from huggingface-hub>=0.19.3->sentence-transformers==3.1.1) (2025.3.0)\n",
      "Requirement already satisfied: packaging>=20.9 in /usr/local/lib/python3.12/dist-packages (from huggingface-hub>=0.19.3->sentence-transformers==3.1.1) (25.0)\n",
      "Requirement already satisfied: pyyaml>=5.1 in /usr/local/lib/python3.12/dist-packages (from huggingface-hub>=0.19.3->sentence-transformers==3.1.1) (6.0.2)\n",
      "Requirement already satisfied: requests in /usr/local/lib/python3.12/dist-packages (from huggingface-hub>=0.19.3->sentence-transformers==3.1.1) (2.32.4)\n",
      "Requirement already satisfied: typing-extensions>=3.7.4.3 in /usr/local/lib/python3.12/dist-packages (from huggingface-hub>=0.19.3->sentence-transformers==3.1.1) (4.15.0)\n",
      "Requirement already satisfied: hf-xet<2.0.0,>=1.1.3 in /usr/local/lib/python3.12/dist-packages (from huggingface-hub>=0.19.3->sentence-transformers==3.1.1) (1.1.10)\n",
      "Requirement already satisfied: setuptools in /usr/local/lib/python3.12/dist-packages (from torch>=1.11.0->sentence-transformers==3.1.1) (75.2.0)\n",
      "Requirement already satisfied: sympy>=1.13.3 in /usr/local/lib/python3.12/dist-packages (from torch>=1.11.0->sentence-transformers==3.1.1) (1.13.3)\n",
      "Requirement already satisfied: networkx in /usr/local/lib/python3.12/dist-packages (from torch>=1.11.0->sentence-transformers==3.1.1) (3.5)\n",
      "Requirement already satisfied: jinja2 in /usr/local/lib/python3.12/dist-packages (from torch>=1.11.0->sentence-transformers==3.1.1) (3.1.6)\n",
      "Requirement already satisfied: nvidia-cuda-nvrtc-cu12==12.6.77 in /usr/local/lib/python3.12/dist-packages (from torch>=1.11.0->sentence-transformers==3.1.1) (12.6.77)\n",
      "Requirement already satisfied: nvidia-cuda-runtime-cu12==12.6.77 in /usr/local/lib/python3.12/dist-packages (from torch>=1.11.0->sentence-transformers==3.1.1) (12.6.77)\n",
      "Requirement already satisfied: nvidia-cuda-cupti-cu12==12.6.80 in /usr/local/lib/python3.12/dist-packages (from torch>=1.11.0->sentence-transformers==3.1.1) (12.6.80)\n",
      "Requirement already satisfied: nvidia-cudnn-cu12==9.10.2.21 in /usr/local/lib/python3.12/dist-packages (from torch>=1.11.0->sentence-transformers==3.1.1) (9.10.2.21)\n",
      "Requirement already satisfied: nvidia-cublas-cu12==12.6.4.1 in /usr/local/lib/python3.12/dist-packages (from torch>=1.11.0->sentence-transformers==3.1.1) (12.6.4.1)\n",
      "Requirement already satisfied: nvidia-cufft-cu12==11.3.0.4 in /usr/local/lib/python3.12/dist-packages (from torch>=1.11.0->sentence-transformers==3.1.1) (11.3.0.4)\n",
      "Requirement already satisfied: nvidia-curand-cu12==10.3.7.77 in /usr/local/lib/python3.12/dist-packages (from torch>=1.11.0->sentence-transformers==3.1.1) (10.3.7.77)\n",
      "Requirement already satisfied: nvidia-cusolver-cu12==11.7.1.2 in /usr/local/lib/python3.12/dist-packages (from torch>=1.11.0->sentence-transformers==3.1.1) (11.7.1.2)\n",
      "Requirement already satisfied: nvidia-cusparse-cu12==12.5.4.2 in /usr/local/lib/python3.12/dist-packages (from torch>=1.11.0->sentence-transformers==3.1.1) (12.5.4.2)\n",
      "Requirement already satisfied: nvidia-cusparselt-cu12==0.7.1 in /usr/local/lib/python3.12/dist-packages (from torch>=1.11.0->sentence-transformers==3.1.1) (0.7.1)\n",
      "Requirement already satisfied: nvidia-nccl-cu12==2.27.3 in /usr/local/lib/python3.12/dist-packages (from torch>=1.11.0->sentence-transformers==3.1.1) (2.27.3)\n",
      "Requirement already satisfied: nvidia-nvtx-cu12==12.6.77 in /usr/local/lib/python3.12/dist-packages (from torch>=1.11.0->sentence-transformers==3.1.1) (12.6.77)\n",
      "Requirement already satisfied: nvidia-nvjitlink-cu12==12.6.85 in /usr/local/lib/python3.12/dist-packages (from torch>=1.11.0->sentence-transformers==3.1.1) (12.6.85)\n",
      "Requirement already satisfied: nvidia-cufile-cu12==1.11.1.6 in /usr/local/lib/python3.12/dist-packages (from torch>=1.11.0->sentence-transformers==3.1.1) (1.11.1.6)\n",
      "Requirement already satisfied: triton==3.4.0 in /usr/local/lib/python3.12/dist-packages (from torch>=1.11.0->sentence-transformers==3.1.1) (3.4.0)\n",
      "Requirement already satisfied: numpy>=1.17 in /usr/local/lib/python3.12/dist-packages (from transformers<5.0.0,>=4.38.0->sentence-transformers==3.1.1) (2.0.2)\n",
      "Requirement already satisfied: regex!=2019.12.17 in /usr/local/lib/python3.12/dist-packages (from transformers<5.0.0,>=4.38.0->sentence-transformers==3.1.1) (2024.11.6)\n",
      "Requirement already satisfied: tokenizers<=0.23.0,>=0.22.0 in /usr/local/lib/python3.12/dist-packages (from transformers<5.0.0,>=4.38.0->sentence-transformers==3.1.1) (0.22.0)\n",
      "Requirement already satisfied: safetensors>=0.4.3 in /usr/local/lib/python3.12/dist-packages (from transformers<5.0.0,>=4.38.0->sentence-transformers==3.1.1) (0.6.2)\n",
      "Requirement already satisfied: joblib>=1.2.0 in /usr/local/lib/python3.12/dist-packages (from scikit-learn->sentence-transformers==3.1.1) (1.5.2)\n",
      "Requirement already satisfied: threadpoolctl>=3.1.0 in /usr/local/lib/python3.12/dist-packages (from scikit-learn->sentence-transformers==3.1.1) (3.6.0)\n",
      "Requirement already satisfied: mpmath<1.4,>=1.1.0 in /usr/local/lib/python3.12/dist-packages (from sympy>=1.13.3->torch>=1.11.0->sentence-transformers==3.1.1) (1.3.0)\n",
      "Requirement already satisfied: MarkupSafe>=2.0 in /usr/local/lib/python3.12/dist-packages (from jinja2->torch>=1.11.0->sentence-transformers==3.1.1) (3.0.2)\n",
      "Requirement already satisfied: charset_normalizer<4,>=2 in /usr/local/lib/python3.12/dist-packages (from requests->huggingface-hub>=0.19.3->sentence-transformers==3.1.1) (3.4.3)\n",
      "Requirement already satisfied: idna<4,>=2.5 in /usr/local/lib/python3.12/dist-packages (from requests->huggingface-hub>=0.19.3->sentence-transformers==3.1.1) (3.10)\n",
      "Requirement already satisfied: urllib3<3,>=1.21.1 in /usr/local/lib/python3.12/dist-packages (from requests->huggingface-hub>=0.19.3->sentence-transformers==3.1.1) (2.5.0)\n",
      "Requirement already satisfied: certifi>=2017.4.17 in /usr/local/lib/python3.12/dist-packages (from requests->huggingface-hub>=0.19.3->sentence-transformers==3.1.1) (2025.8.3)\n",
      "Downloading sentence_transformers-3.1.1-py3-none-any.whl (245 kB)\n",
      "\u001b[2K   \u001b[90m━━━━━━━━━━━━━━━━━━━━━━━━━━━━━━━━━━━━━━━━\u001b[0m \u001b[32m245.3/245.3 kB\u001b[0m \u001b[31m5.5 MB/s\u001b[0m eta \u001b[36m0:00:00\u001b[0m\n",
      "\u001b[?25hInstalling collected packages: sentence-transformers\n",
      "  Attempting uninstall: sentence-transformers\n",
      "    Found existing installation: sentence-transformers 5.1.0\n",
      "    Uninstalling sentence-transformers-5.1.0:\n",
      "      Successfully uninstalled sentence-transformers-5.1.0\n",
      "Successfully installed sentence-transformers-3.1.1\n"
     ]
    }
   ],
   "source": [
    "!pip install sentence-transformers==3.1.1"
   ]
  },
  {
   "cell_type": "code",
   "execution_count": null,
   "metadata": {
    "colab": {
     "base_uri": "https://localhost:8080/"
    },
    "collapsed": true,
    "id": "zWXB0ehPQhzV",
    "outputId": "2367176f-c820-446b-c040-07a3ec9fdd36"
   },
   "outputs": [
    {
     "name": "stdout",
     "output_type": "stream",
     "text": [
      "Collecting transformers==4.45.2\n",
      "  Downloading transformers-4.45.2-py3-none-any.whl.metadata (44 kB)\n",
      "\u001b[?25l     \u001b[90m━━━━━━━━━━━━━━━━━━━━━━━━━━━━━━━━━━━━━━━━\u001b[0m \u001b[32m0.0/44.4 kB\u001b[0m \u001b[31m?\u001b[0m eta \u001b[36m-:--:--\u001b[0m\r",
      "\u001b[2K     \u001b[90m━━━━━━━━━━━━━━━━━━━━━━━━━━━━━━━━━━━━━━━━\u001b[0m \u001b[32m44.4/44.4 kB\u001b[0m \u001b[31m3.1 MB/s\u001b[0m eta \u001b[36m0:00:00\u001b[0m\n",
      "\u001b[?25hRequirement already satisfied: filelock in /usr/local/lib/python3.12/dist-packages (from transformers==4.45.2) (3.19.1)\n",
      "Requirement already satisfied: huggingface-hub<1.0,>=0.23.2 in /usr/local/lib/python3.12/dist-packages (from transformers==4.45.2) (0.35.0)\n",
      "Requirement already satisfied: numpy>=1.17 in /usr/local/lib/python3.12/dist-packages (from transformers==4.45.2) (2.0.2)\n",
      "Requirement already satisfied: packaging>=20.0 in /usr/local/lib/python3.12/dist-packages (from transformers==4.45.2) (25.0)\n",
      "Requirement already satisfied: pyyaml>=5.1 in /usr/local/lib/python3.12/dist-packages (from transformers==4.45.2) (6.0.2)\n",
      "Requirement already satisfied: regex!=2019.12.17 in /usr/local/lib/python3.12/dist-packages (from transformers==4.45.2) (2024.11.6)\n",
      "Requirement already satisfied: requests in /usr/local/lib/python3.12/dist-packages (from transformers==4.45.2) (2.32.4)\n",
      "Requirement already satisfied: safetensors>=0.4.1 in /usr/local/lib/python3.12/dist-packages (from transformers==4.45.2) (0.6.2)\n",
      "Collecting tokenizers<0.21,>=0.20 (from transformers==4.45.2)\n",
      "  Downloading tokenizers-0.20.3-cp312-cp312-manylinux_2_17_x86_64.manylinux2014_x86_64.whl.metadata (6.7 kB)\n",
      "Requirement already satisfied: tqdm>=4.27 in /usr/local/lib/python3.12/dist-packages (from transformers==4.45.2) (4.67.1)\n",
      "Requirement already satisfied: fsspec>=2023.5.0 in /usr/local/lib/python3.12/dist-packages (from huggingface-hub<1.0,>=0.23.2->transformers==4.45.2) (2025.3.0)\n",
      "Requirement already satisfied: typing-extensions>=3.7.4.3 in /usr/local/lib/python3.12/dist-packages (from huggingface-hub<1.0,>=0.23.2->transformers==4.45.2) (4.15.0)\n",
      "Requirement already satisfied: hf-xet<2.0.0,>=1.1.3 in /usr/local/lib/python3.12/dist-packages (from huggingface-hub<1.0,>=0.23.2->transformers==4.45.2) (1.1.10)\n",
      "Requirement already satisfied: charset_normalizer<4,>=2 in /usr/local/lib/python3.12/dist-packages (from requests->transformers==4.45.2) (3.4.3)\n",
      "Requirement already satisfied: idna<4,>=2.5 in /usr/local/lib/python3.12/dist-packages (from requests->transformers==4.45.2) (3.10)\n",
      "Requirement already satisfied: urllib3<3,>=1.21.1 in /usr/local/lib/python3.12/dist-packages (from requests->transformers==4.45.2) (2.5.0)\n",
      "Requirement already satisfied: certifi>=2017.4.17 in /usr/local/lib/python3.12/dist-packages (from requests->transformers==4.45.2) (2025.8.3)\n",
      "Downloading transformers-4.45.2-py3-none-any.whl (9.9 MB)\n",
      "\u001b[2K   \u001b[90m━━━━━━━━━━━━━━━━━━━━━━━━━━━━━━━━━━━━━━━━\u001b[0m \u001b[32m9.9/9.9 MB\u001b[0m \u001b[31m26.8 MB/s\u001b[0m eta \u001b[36m0:00:00\u001b[0m\n",
      "\u001b[?25hDownloading tokenizers-0.20.3-cp312-cp312-manylinux_2_17_x86_64.manylinux2014_x86_64.whl (3.0 MB)\n",
      "\u001b[2K   \u001b[90m━━━━━━━━━━━━━━━━━━━━━━━━━━━━━━━━━━━━━━━━\u001b[0m \u001b[32m3.0/3.0 MB\u001b[0m \u001b[31m46.3 MB/s\u001b[0m eta \u001b[36m0:00:00\u001b[0m\n",
      "\u001b[?25hInstalling collected packages: tokenizers, transformers\n",
      "  Attempting uninstall: tokenizers\n",
      "    Found existing installation: tokenizers 0.22.0\n",
      "    Uninstalling tokenizers-0.22.0:\n",
      "      Successfully uninstalled tokenizers-0.22.0\n",
      "  Attempting uninstall: transformers\n",
      "    Found existing installation: transformers 4.56.1\n",
      "    Uninstalling transformers-4.56.1:\n",
      "      Successfully uninstalled transformers-4.56.1\n",
      "Successfully installed tokenizers-0.20.3 transformers-4.45.2\n"
     ]
    }
   ],
   "source": [
    "!pip install transformers==4.45.2"
   ]
  },
  {
   "cell_type": "code",
   "execution_count": null,
   "metadata": {
    "colab": {
     "base_uri": "https://localhost:8080/"
    },
    "collapsed": true,
    "id": "iJoqBYXvQprB",
    "outputId": "485d5a72-01b6-45ed-a735-acfa8bd0c7fa"
   },
   "outputs": [
    {
     "name": "stdout",
     "output_type": "stream",
     "text": [
      "Collecting torchmetrics\n",
      "  Downloading torchmetrics-1.8.2-py3-none-any.whl.metadata (22 kB)\n",
      "Requirement already satisfied: numpy>1.20.0 in /usr/local/lib/python3.12/dist-packages (from torchmetrics) (2.0.2)\n",
      "Requirement already satisfied: packaging>17.1 in /usr/local/lib/python3.12/dist-packages (from torchmetrics) (25.0)\n",
      "Requirement already satisfied: torch>=2.0.0 in /usr/local/lib/python3.12/dist-packages (from torchmetrics) (2.8.0+cu126)\n",
      "Collecting lightning-utilities>=0.8.0 (from torchmetrics)\n",
      "  Downloading lightning_utilities-0.15.2-py3-none-any.whl.metadata (5.7 kB)\n",
      "Requirement already satisfied: setuptools in /usr/local/lib/python3.12/dist-packages (from lightning-utilities>=0.8.0->torchmetrics) (75.2.0)\n",
      "Requirement already satisfied: typing_extensions in /usr/local/lib/python3.12/dist-packages (from lightning-utilities>=0.8.0->torchmetrics) (4.15.0)\n",
      "Requirement already satisfied: filelock in /usr/local/lib/python3.12/dist-packages (from torch>=2.0.0->torchmetrics) (3.19.1)\n",
      "Requirement already satisfied: sympy>=1.13.3 in /usr/local/lib/python3.12/dist-packages (from torch>=2.0.0->torchmetrics) (1.13.3)\n",
      "Requirement already satisfied: networkx in /usr/local/lib/python3.12/dist-packages (from torch>=2.0.0->torchmetrics) (3.5)\n",
      "Requirement already satisfied: jinja2 in /usr/local/lib/python3.12/dist-packages (from torch>=2.0.0->torchmetrics) (3.1.6)\n",
      "Requirement already satisfied: fsspec in /usr/local/lib/python3.12/dist-packages (from torch>=2.0.0->torchmetrics) (2025.3.0)\n",
      "Requirement already satisfied: nvidia-cuda-nvrtc-cu12==12.6.77 in /usr/local/lib/python3.12/dist-packages (from torch>=2.0.0->torchmetrics) (12.6.77)\n",
      "Requirement already satisfied: nvidia-cuda-runtime-cu12==12.6.77 in /usr/local/lib/python3.12/dist-packages (from torch>=2.0.0->torchmetrics) (12.6.77)\n",
      "Requirement already satisfied: nvidia-cuda-cupti-cu12==12.6.80 in /usr/local/lib/python3.12/dist-packages (from torch>=2.0.0->torchmetrics) (12.6.80)\n",
      "Requirement already satisfied: nvidia-cudnn-cu12==9.10.2.21 in /usr/local/lib/python3.12/dist-packages (from torch>=2.0.0->torchmetrics) (9.10.2.21)\n",
      "Requirement already satisfied: nvidia-cublas-cu12==12.6.4.1 in /usr/local/lib/python3.12/dist-packages (from torch>=2.0.0->torchmetrics) (12.6.4.1)\n",
      "Requirement already satisfied: nvidia-cufft-cu12==11.3.0.4 in /usr/local/lib/python3.12/dist-packages (from torch>=2.0.0->torchmetrics) (11.3.0.4)\n",
      "Requirement already satisfied: nvidia-curand-cu12==10.3.7.77 in /usr/local/lib/python3.12/dist-packages (from torch>=2.0.0->torchmetrics) (10.3.7.77)\n",
      "Requirement already satisfied: nvidia-cusolver-cu12==11.7.1.2 in /usr/local/lib/python3.12/dist-packages (from torch>=2.0.0->torchmetrics) (11.7.1.2)\n",
      "Requirement already satisfied: nvidia-cusparse-cu12==12.5.4.2 in /usr/local/lib/python3.12/dist-packages (from torch>=2.0.0->torchmetrics) (12.5.4.2)\n",
      "Requirement already satisfied: nvidia-cusparselt-cu12==0.7.1 in /usr/local/lib/python3.12/dist-packages (from torch>=2.0.0->torchmetrics) (0.7.1)\n",
      "Requirement already satisfied: nvidia-nccl-cu12==2.27.3 in /usr/local/lib/python3.12/dist-packages (from torch>=2.0.0->torchmetrics) (2.27.3)\n",
      "Requirement already satisfied: nvidia-nvtx-cu12==12.6.77 in /usr/local/lib/python3.12/dist-packages (from torch>=2.0.0->torchmetrics) (12.6.77)\n",
      "Requirement already satisfied: nvidia-nvjitlink-cu12==12.6.85 in /usr/local/lib/python3.12/dist-packages (from torch>=2.0.0->torchmetrics) (12.6.85)\n",
      "Requirement already satisfied: nvidia-cufile-cu12==1.11.1.6 in /usr/local/lib/python3.12/dist-packages (from torch>=2.0.0->torchmetrics) (1.11.1.6)\n",
      "Requirement already satisfied: triton==3.4.0 in /usr/local/lib/python3.12/dist-packages (from torch>=2.0.0->torchmetrics) (3.4.0)\n",
      "Requirement already satisfied: mpmath<1.4,>=1.1.0 in /usr/local/lib/python3.12/dist-packages (from sympy>=1.13.3->torch>=2.0.0->torchmetrics) (1.3.0)\n",
      "Requirement already satisfied: MarkupSafe>=2.0 in /usr/local/lib/python3.12/dist-packages (from jinja2->torch>=2.0.0->torchmetrics) (3.0.2)\n",
      "Downloading torchmetrics-1.8.2-py3-none-any.whl (983 kB)\n",
      "\u001b[2K   \u001b[90m━━━━━━━━━━━━━━━━━━━━━━━━━━━━━━━━━━━━━━━━\u001b[0m \u001b[32m983.2/983.2 kB\u001b[0m \u001b[31m23.2 MB/s\u001b[0m eta \u001b[36m0:00:00\u001b[0m\n",
      "\u001b[?25hDownloading lightning_utilities-0.15.2-py3-none-any.whl (29 kB)\n",
      "Installing collected packages: lightning-utilities, torchmetrics\n",
      "Successfully installed lightning-utilities-0.15.2 torchmetrics-1.8.2\n"
     ]
    }
   ],
   "source": [
    "!pip install torchmetrics"
   ]
  },
  {
   "cell_type": "code",
   "execution_count": null,
   "metadata": {
    "colab": {
     "base_uri": "https://localhost:8080/"
    },
    "collapsed": true,
    "id": "qxxMM30zQsma",
    "outputId": "623cfc0c-4a32-47bc-ac43-5ec798264aad"
   },
   "outputs": [
    {
     "name": "stdout",
     "output_type": "stream",
     "text": [
      "Requirement already satisfied: datasets in /usr/local/lib/python3.12/dist-packages (4.0.0)\n",
      "Requirement already satisfied: filelock in /usr/local/lib/python3.12/dist-packages (from datasets) (3.19.1)\n",
      "Requirement already satisfied: numpy>=1.17 in /usr/local/lib/python3.12/dist-packages (from datasets) (2.0.2)\n",
      "Requirement already satisfied: pyarrow>=15.0.0 in /usr/local/lib/python3.12/dist-packages (from datasets) (18.1.0)\n",
      "Requirement already satisfied: dill<0.3.9,>=0.3.0 in /usr/local/lib/python3.12/dist-packages (from datasets) (0.3.8)\n",
      "Requirement already satisfied: pandas in /usr/local/lib/python3.12/dist-packages (from datasets) (2.2.2)\n",
      "Requirement already satisfied: requests>=2.32.2 in /usr/local/lib/python3.12/dist-packages (from datasets) (2.32.4)\n",
      "Requirement already satisfied: tqdm>=4.66.3 in /usr/local/lib/python3.12/dist-packages (from datasets) (4.67.1)\n",
      "Requirement already satisfied: xxhash in /usr/local/lib/python3.12/dist-packages (from datasets) (3.5.0)\n",
      "Requirement already satisfied: multiprocess<0.70.17 in /usr/local/lib/python3.12/dist-packages (from datasets) (0.70.16)\n",
      "Requirement already satisfied: fsspec<=2025.3.0,>=2023.1.0 in /usr/local/lib/python3.12/dist-packages (from fsspec[http]<=2025.3.0,>=2023.1.0->datasets) (2025.3.0)\n",
      "Requirement already satisfied: huggingface-hub>=0.24.0 in /usr/local/lib/python3.12/dist-packages (from datasets) (0.35.0)\n",
      "Requirement already satisfied: packaging in /usr/local/lib/python3.12/dist-packages (from datasets) (25.0)\n",
      "Requirement already satisfied: pyyaml>=5.1 in /usr/local/lib/python3.12/dist-packages (from datasets) (6.0.2)\n",
      "Requirement already satisfied: aiohttp!=4.0.0a0,!=4.0.0a1 in /usr/local/lib/python3.12/dist-packages (from fsspec[http]<=2025.3.0,>=2023.1.0->datasets) (3.12.15)\n",
      "Requirement already satisfied: typing-extensions>=3.7.4.3 in /usr/local/lib/python3.12/dist-packages (from huggingface-hub>=0.24.0->datasets) (4.15.0)\n",
      "Requirement already satisfied: hf-xet<2.0.0,>=1.1.3 in /usr/local/lib/python3.12/dist-packages (from huggingface-hub>=0.24.0->datasets) (1.1.10)\n",
      "Requirement already satisfied: charset_normalizer<4,>=2 in /usr/local/lib/python3.12/dist-packages (from requests>=2.32.2->datasets) (3.4.3)\n",
      "Requirement already satisfied: idna<4,>=2.5 in /usr/local/lib/python3.12/dist-packages (from requests>=2.32.2->datasets) (3.10)\n",
      "Requirement already satisfied: urllib3<3,>=1.21.1 in /usr/local/lib/python3.12/dist-packages (from requests>=2.32.2->datasets) (2.5.0)\n",
      "Requirement already satisfied: certifi>=2017.4.17 in /usr/local/lib/python3.12/dist-packages (from requests>=2.32.2->datasets) (2025.8.3)\n",
      "Requirement already satisfied: python-dateutil>=2.8.2 in /usr/local/lib/python3.12/dist-packages (from pandas->datasets) (2.9.0.post0)\n",
      "Requirement already satisfied: pytz>=2020.1 in /usr/local/lib/python3.12/dist-packages (from pandas->datasets) (2025.2)\n",
      "Requirement already satisfied: tzdata>=2022.7 in /usr/local/lib/python3.12/dist-packages (from pandas->datasets) (2025.2)\n",
      "Requirement already satisfied: aiohappyeyeballs>=2.5.0 in /usr/local/lib/python3.12/dist-packages (from aiohttp!=4.0.0a0,!=4.0.0a1->fsspec[http]<=2025.3.0,>=2023.1.0->datasets) (2.6.1)\n",
      "Requirement already satisfied: aiosignal>=1.4.0 in /usr/local/lib/python3.12/dist-packages (from aiohttp!=4.0.0a0,!=4.0.0a1->fsspec[http]<=2025.3.0,>=2023.1.0->datasets) (1.4.0)\n",
      "Requirement already satisfied: attrs>=17.3.0 in /usr/local/lib/python3.12/dist-packages (from aiohttp!=4.0.0a0,!=4.0.0a1->fsspec[http]<=2025.3.0,>=2023.1.0->datasets) (25.3.0)\n",
      "Requirement already satisfied: frozenlist>=1.1.1 in /usr/local/lib/python3.12/dist-packages (from aiohttp!=4.0.0a0,!=4.0.0a1->fsspec[http]<=2025.3.0,>=2023.1.0->datasets) (1.7.0)\n",
      "Requirement already satisfied: multidict<7.0,>=4.5 in /usr/local/lib/python3.12/dist-packages (from aiohttp!=4.0.0a0,!=4.0.0a1->fsspec[http]<=2025.3.0,>=2023.1.0->datasets) (6.6.4)\n",
      "Requirement already satisfied: propcache>=0.2.0 in /usr/local/lib/python3.12/dist-packages (from aiohttp!=4.0.0a0,!=4.0.0a1->fsspec[http]<=2025.3.0,>=2023.1.0->datasets) (0.3.2)\n",
      "Requirement already satisfied: yarl<2.0,>=1.17.0 in /usr/local/lib/python3.12/dist-packages (from aiohttp!=4.0.0a0,!=4.0.0a1->fsspec[http]<=2025.3.0,>=2023.1.0->datasets) (1.20.1)\n",
      "Requirement already satisfied: six>=1.5 in /usr/local/lib/python3.12/dist-packages (from python-dateutil>=2.8.2->pandas->datasets) (1.17.0)\n"
     ]
    }
   ],
   "source": [
    "!pip install datasets"
   ]
  },
  {
   "cell_type": "code",
   "execution_count": null,
   "metadata": {
    "id": "HlE6vX3WQxhi"
   },
   "outputs": [],
   "source": [
    "import pickle\n",
    "from random import shuffle\n",
    "\n",
    "from datasets import load_dataset\n",
    "from sentence_transformers import InputExample, evaluation"
   ]
  },
  {
   "cell_type": "code",
   "execution_count": null,
   "metadata": {
    "colab": {
     "base_uri": "https://localhost:8080/"
    },
    "id": "5mdsZ-FMRHZk",
    "outputId": "2651e9ad-990b-49a3-f583-7bb7bac7a58e"
   },
   "outputs": [
    {
     "name": "stdout",
     "output_type": "stream",
     "text": [
      "cuda\n"
     ]
    }
   ],
   "source": [
    "import torch\n",
    "\n",
    "device = 'mps' if torch.backends.mps.is_built() else 'cuda' if torch.cuda.is_available() else 'cpu'\n",
    "print(device)"
   ]
  },
  {
   "cell_type": "markdown",
   "metadata": {
    "id": "pbUM9GpZb1vV"
   },
   "source": [
    "## Инициализация модели"
   ]
  },
  {
   "cell_type": "code",
   "execution_count": null,
   "metadata": {
    "id": "-oCy9OtIRLW7"
   },
   "outputs": [],
   "source": [
    "from sentence_transformers import SentenceTransformer, models\n",
    "\n",
    "def raw_bi_encoder():\n",
    "    word_embedding_model = models.Transformer('cointegrated/rubert-tiny2', max_seq_length=256)\n",
    "    pooling_model = models.Pooling(word_embedding_model.get_word_embedding_dimension()) # дополнительно используем слой пулинга\n",
    "    # для получения векторного представления текста целиком, а не токенов\n",
    "\n",
    "    bi_encoder = SentenceTransformer(\n",
    "        modules=[word_embedding_model, pooling_model],\n",
    "        device=device,\n",
    "    )\n",
    "\n",
    "    return bi_encoder"
   ]
  },
  {
   "cell_type": "code",
   "execution_count": null,
   "metadata": {
    "colab": {
     "base_uri": "https://localhost:8080/",
     "height": 403,
     "referenced_widgets": [
      "7536760c1c3b44b29a61efd546cb4b96",
      "a742dc292a3a4a73a2917afe9cd8bcd0",
      "c921d4cb68f64ba597b9743771f3fed9",
      "edb8f10fe75446b6bf83557bce3b5511",
      "97b0d25e787c4db2b1c7b733fa9cd25b",
      "e48b6a8581dd4bc9a236dea7a5c66730",
      "5aa3d1766c9b4135809b9bae3145182d",
      "7c025591ff664ebcad8add64f93e597a",
      "925f80777ef44decba464377fd80a487",
      "6965b1d1e8ec4019a2c1437774e99a2e",
      "6cb729c6897c40e198d9f1f285b68dd5",
      "c403757c154d46f29faa589ebb03b469",
      "9af95acfb8114a71942186b8c7a7fd2e",
      "77ac390422014075a25c860924d6cac6",
      "892fd89234634d228069c25ff75432fc",
      "deae528b458d4b309c68eb9f5b070ce8",
      "cbcb6011095b4f89a8f5814980026a1f",
      "c7d183d90c0d46a1b091e2e8513e245d",
      "389457eee36c4c2b8dbf0eef4b0a1750",
      "acf70fadcb73486d9c32aceeb2c5db74",
      "c360078f0fe548f295e1a08ab4878e92",
      "2f53ef3b38f245d49ea6e0be1b7348b3",
      "4e58821c6a6f4273b83010fab5e2abbd",
      "893c592c81004a138a7b070a90950c3b",
      "2647b242dcae43a2a66d756000482d64",
      "f1aedf77cd844c9b972a76544e32ceb7",
      "7cebb502f7f145ffaf053f677926f48c",
      "f1b1b4dddc2c4a2f8abc289846c7dfe9",
      "773b0534e7594fcea7479921ed6cf46a",
      "5004fb07c7744481988c19cd07c62fb2",
      "e06cc73188d9449ba546528b54299da2",
      "b8eb1600d88c4f4799c47f45cc5350df",
      "057a4414544c48989144ecef1d67c96c",
      "00b76411bf70432bb77ea66e2a2a128e",
      "f963abee1061483bb2b517681a987925",
      "c3a6c49cc0f44b08945b8e50fed2b558",
      "f7788070079c42feb3052c00bf6c8641",
      "69676e1aca0244e499e4134346eef5f3",
      "11fcdc4c77334d0e81e300cd54cca378",
      "e61ad28d82904609bacba306437e7afb",
      "1d7b7acce51743ef8a44dab8eaf516c3",
      "46b198dadf7a4ebf8e2b37d0cb3ae635",
      "0093a5b541ff4eb9a44e651fc1b0b082",
      "1b26d9a79e844fbdbac01df69d51f1dc",
      "07030abd892e42028fe61cc3a25fdd2b",
      "765af24b3127441998a33109c0375701",
      "145796672c444190b333a2d1b7d40f80",
      "93682e7e833e46eaad53eb858ba250bf",
      "b70200d04e9b4d71a9712359b77c1546",
      "3349c74d1ea843f6a5ae1b897a75ea92",
      "43e6e331c4f44a68855f275d89a98e2f",
      "6e9a85eba4444a99ab74ee434a584cf2",
      "1ea317c726a5418897bcd71a7f30f917",
      "7b02f6deb4ae4cbaa2657dadd1f1d7eb",
      "32caa2e256254b679b76cf2e64018c71",
      "be9e4c40eeeb4ede8bb8ba4f89d4ec5a",
      "6a2456f3a3f44591941e656ccde9e296",
      "551c5dfa865d4487b227c9b8fe7d0af4",
      "28ed24c5c9e647b19744d32416913ab7",
      "4bbcd67f08a7410bb49463962c5c83ba",
      "835f5e203a53405a8d5ef51b371a8937",
      "55d9514a7a6441378cb450e3b9384ff8",
      "8fee1e4c54cd472a9a3c1f247366d19d",
      "0d1363c0d74f4660bc320dd1edc149a9",
      "57121e31ffe549c7a1248a7216c37d3c",
      "7936fc6a868a452bb4a9ef810c0b614c"
     ]
    },
    "id": "jL8wybjiRdCW",
    "outputId": "f97ea216-cac6-4ec1-889d-5b07cc2ecaf5"
   },
   "outputs": [
    {
     "name": "stderr",
     "output_type": "stream",
     "text": [
      "/usr/local/lib/python3.12/dist-packages/huggingface_hub/utils/_auth.py:94: UserWarning: \n",
      "The secret `HF_TOKEN` does not exist in your Colab secrets.\n",
      "To authenticate with the Hugging Face Hub, create a token in your settings tab (https://huggingface.co/settings/tokens), set it as secret in your Google Colab and restart your session.\n",
      "You will be able to reuse this secret in all of your notebooks.\n",
      "Please note that authentication is recommended but still optional to access public models or datasets.\n",
      "  warnings.warn(\n"
     ]
    },
    {
     "data": {
      "application/vnd.jupyter.widget-view+json": {
       "model_id": "7536760c1c3b44b29a61efd546cb4b96",
       "version_major": 2,
       "version_minor": 0
      },
      "text/plain": [
       "config.json:   0%|          | 0.00/693 [00:00<?, ?B/s]"
      ]
     },
     "metadata": {},
     "output_type": "display_data"
    },
    {
     "data": {
      "application/vnd.jupyter.widget-view+json": {
       "model_id": "c403757c154d46f29faa589ebb03b469",
       "version_major": 2,
       "version_minor": 0
      },
      "text/plain": [
       "model.safetensors:   0%|          | 0.00/118M [00:00<?, ?B/s]"
      ]
     },
     "metadata": {},
     "output_type": "display_data"
    },
    {
     "data": {
      "application/vnd.jupyter.widget-view+json": {
       "model_id": "4e58821c6a6f4273b83010fab5e2abbd",
       "version_major": 2,
       "version_minor": 0
      },
      "text/plain": [
       "tokenizer_config.json:   0%|          | 0.00/401 [00:00<?, ?B/s]"
      ]
     },
     "metadata": {},
     "output_type": "display_data"
    },
    {
     "data": {
      "application/vnd.jupyter.widget-view+json": {
       "model_id": "00b76411bf70432bb77ea66e2a2a128e",
       "version_major": 2,
       "version_minor": 0
      },
      "text/plain": [
       "vocab.txt: 0.00B [00:00, ?B/s]"
      ]
     },
     "metadata": {},
     "output_type": "display_data"
    },
    {
     "data": {
      "application/vnd.jupyter.widget-view+json": {
       "model_id": "07030abd892e42028fe61cc3a25fdd2b",
       "version_major": 2,
       "version_minor": 0
      },
      "text/plain": [
       "tokenizer.json: 0.00B [00:00, ?B/s]"
      ]
     },
     "metadata": {},
     "output_type": "display_data"
    },
    {
     "data": {
      "application/vnd.jupyter.widget-view+json": {
       "model_id": "be9e4c40eeeb4ede8bb8ba4f89d4ec5a",
       "version_major": 2,
       "version_minor": 0
      },
      "text/plain": [
       "special_tokens_map.json:   0%|          | 0.00/112 [00:00<?, ?B/s]"
      ]
     },
     "metadata": {},
     "output_type": "display_data"
    },
    {
     "name": "stdout",
     "output_type": "stream",
     "text": [
      "SentenceTransformer(\n",
      "  (0): Transformer({'max_seq_length': 256, 'do_lower_case': False}) with Transformer model: BertModel \n",
      "  (1): Pooling({'word_embedding_dimension': 312, 'pooling_mode_cls_token': False, 'pooling_mode_mean_tokens': True, 'pooling_mode_max_tokens': False, 'pooling_mode_mean_sqrt_len_tokens': False, 'pooling_mode_weightedmean_tokens': False, 'pooling_mode_lasttoken': False, 'include_prompt': True})\n",
      ")\n"
     ]
    }
   ],
   "source": [
    "bi_encoder = raw_bi_encoder()\n",
    "print(bi_encoder)"
   ]
  },
  {
   "cell_type": "markdown",
   "metadata": {
    "id": "B294rFSOUX9T"
   },
   "source": [
    "## Служебные функции"
   ]
  },
  {
   "cell_type": "code",
   "execution_count": null,
   "metadata": {
    "id": "NpyT16R_Resy"
   },
   "outputs": [],
   "source": [
    "# удаление повторяющихся документов\n",
    "def shrink_repeated_samples(\n",
    "    queries,\n",
    "    docs,\n",
    "    labels,\n",
    "):\n",
    "    docs_was = set()\n",
    "    qs = []\n",
    "    ds = []\n",
    "    ls = []\n",
    "    for i in range(len(queries)):\n",
    "        q, d, l = queries[i], docs[i], labels[i]\n",
    "        if d in docs_was:\n",
    "            continue\n",
    "        qs.append(q)\n",
    "        ds.append(d)\n",
    "        ls.append(l)\n",
    "        docs_was.add(d)\n",
    "\n",
    "    return qs, ds, ls"
   ]
  },
  {
   "cell_type": "code",
   "execution_count": null,
   "metadata": {
    "id": "KEIJ0s9HUfK8"
   },
   "outputs": [],
   "source": [
    "# загрузка и перемешивание train/val\n",
    "def trainval_shuffled_data(from_file=False):\n",
    "    datafile = 'trainval.pkl'\n",
    "\n",
    "    if from_file:\n",
    "        with open(datafile, 'rb') as f:\n",
    "            data = pickle.load(f)\n",
    "        return data\n",
    "\n",
    "    good, bad = load_trainval_samples()\n",
    "    data = good + bad\n",
    "    shuffle(data)\n",
    "\n",
    "    with open(datafile, 'wb') as f:\n",
    "        pickle.dump(data, f)\n",
    "\n",
    "    return data"
   ]
  },
  {
   "cell_type": "code",
   "execution_count": null,
   "metadata": {
    "id": "wtlqyCr5UlWM"
   },
   "outputs": [],
   "source": [
    "# загрузка и перемешивание test\n",
    "def test_shuffled_data(from_file=False):\n",
    "    datafile = 'test.pkl'\n",
    "\n",
    "    if from_file:\n",
    "        with open(datafile, 'rb') as f:\n",
    "            data = pickle.load(f)\n",
    "        return data\n",
    "\n",
    "    good, bad = load_test_samples()\n",
    "    data = good + bad\n",
    "\n",
    "    with open(datafile, 'wb') as f:\n",
    "        pickle.dump(data, f)\n",
    "\n",
    "    return data"
   ]
  },
  {
   "cell_type": "code",
   "execution_count": null,
   "metadata": {
    "id": "HmWkVRijUp-R"
   },
   "outputs": [],
   "source": [
    "# формирование input example\n",
    "def trainval_examples():\n",
    "    data = trainval_shuffled_data(from_file=False)\n",
    "    # data = data[:75000]\n",
    "\n",
    "    trainval = []\n",
    "    for question, document, cos in data:\n",
    "        trainval.append(\n",
    "            InputExample(texts=[question, document], label=cos)\n",
    "        )\n",
    "\n",
    "    return trainval"
   ]
  },
  {
   "cell_type": "code",
   "execution_count": null,
   "metadata": {
    "id": "iVkpYTSkUwgk"
   },
   "outputs": [],
   "source": [
    "# загрузка тестовых примеров\n",
    "def load_test_samples():\n",
    "    _, _, test = _load_sberquad_dataset()\n",
    "\n",
    "    questions = test['question'].tolist()\n",
    "    contexts = test['context'].tolist()\n",
    "\n",
    "    return _inflate_with_negative_samples(\n",
    "        questions=questions,\n",
    "        contexts=contexts,\n",
    "    )"
   ]
  },
  {
   "cell_type": "code",
   "execution_count": null,
   "metadata": {
    "id": "isRYD9VWU2Fd"
   },
   "outputs": [],
   "source": [
    "# загрузка train/val\n",
    "def load_trainval_samples():\n",
    "    train, val, _ = _load_sberquad_dataset()\n",
    "\n",
    "    questions = train['question'].tolist() + val['question'].tolist()\n",
    "    contexts = train['context'].tolist() + val['context'].tolist()\n",
    "\n",
    "    return _inflate_with_negative_samples(\n",
    "        questions=questions,\n",
    "        contexts=contexts,\n",
    "    )"
   ]
  },
  {
   "cell_type": "code",
   "execution_count": null,
   "metadata": {
    "id": "tRu8TtW8U62Y"
   },
   "outputs": [],
   "source": [
    "# генерация негативных примеров (негативное семплирование)\n",
    "def _inflate_with_negative_samples(\n",
    "    questions,\n",
    "    contexts,\n",
    "    delta=30,  # in sberquad dataset same contexts are close\n",
    "):\n",
    "    good_q_c_cos = list(zip(questions, contexts, [1.0] * len(questions)))\n",
    "    bad_q_c_cos = []\n",
    "    n = len(good_q_c_cos)\n",
    "\n",
    "    for i in range(n):\n",
    "        cur_q, cur_c, _ = good_q_c_cos[i]\n",
    "        next_q, next_c, _ = good_q_c_cos[(i + delta) % n]\n",
    "        if next_c != cur_c:\n",
    "            bad_q_c_cos.append((cur_q, next_c, 0.0))\n",
    "\n",
    "    return good_q_c_cos, bad_q_c_cos"
   ]
  },
  {
   "cell_type": "code",
   "execution_count": null,
   "metadata": {
    "id": "C9OtlBIRU_j-"
   },
   "outputs": [],
   "source": [
    "# загрузка датасета sberquad\n",
    "def _load_raw_sberquad_dataset(from_file=False):\n",
    "    sberquad = 'sberquad.pkl'\n",
    "    if from_file:\n",
    "        with open(sberquad, 'rb') as f:\n",
    "            df = pickle.load(f)\n",
    "    else:\n",
    "        df = load_dataset('sberquad')\n",
    "        with open(sberquad, 'wb') as f:\n",
    "            pickle.dump(df, f)\n",
    "\n",
    "    return df"
   ]
  },
  {
   "cell_type": "code",
   "execution_count": null,
   "metadata": {
    "id": "ooHG_QzKWnIw"
   },
   "outputs": [],
   "source": [
    "# разбиение на train, validation, test\n",
    "def _load_sberquad_dataset():\n",
    "    df = _load_raw_sberquad_dataset()\n",
    "    train = df['train'].to_pandas()\n",
    "    validation = df['validation'].to_pandas()\n",
    "    test = df['test'].to_pandas()\n",
    "\n",
    "    return train, validation, test"
   ]
  },
  {
   "cell_type": "markdown",
   "metadata": {
    "id": "0tJXzPpFVvuK"
   },
   "source": [
    "## Метрики близости без дообучения на trainval"
   ]
  },
  {
   "cell_type": "code",
   "execution_count": null,
   "metadata": {
    "colab": {
     "base_uri": "https://localhost:8080/",
     "height": 241,
     "referenced_widgets": [
      "8e5fb71b5eb4474a861028d7090de567",
      "930a66ded6a344b1ba7fef5156f862d1",
      "a5efe1af78a84b80bcc29630bc886ec4",
      "f26008d587334ae7b4a1773785745bca",
      "46a9676656ae4081b1c65c21eaae79fb",
      "e75d18d6d6ac42d689d33d02904a8087",
      "e770e4c6876f46dca04bc62db060cef2",
      "ff41e27ea54d44bb89a516a07cc3d914",
      "5a452e77eb1c4b9b9c28c7ac87554b60",
      "d068039adc1c4e6088a26e0f7cf4e78d",
      "8a3628a858c94a218ad4fd6d47aaac39",
      "c0ccd1db8654478cb3a2a9830485614f",
      "cd66c96cf8104b0ba18a9d8f232be3dd",
      "797ae5e146ca4c06b006b3cc9519dd4d",
      "20120dc5317f4770b08326d7fcb46218",
      "9a4f623252754b51b212ba4496b9699e",
      "d03a4392c40a4bdba1b537c1e1511c1c",
      "883a0845d9dd4f4cbd7aff55a708294c",
      "333fcc3752c44ad69163f18625127810",
      "cb1b6405d0cd4cc9855dee9e35e5150e",
      "9b11d2ab5bbc4b459033e632eb12cb06",
      "e8d427a4cc304e1db95419c7bf87cd4d",
      "b941f9a9c9dd4cea9e92e15e1f7c3e79",
      "b9848166a4da46968bf84506ff8b23c8",
      "ff989b88c1134a8aadf2ed6b16cf2b2c",
      "16393f98d7e7483dbfc7ef9adc581fb7",
      "debb6b8ee77c470ea87beb8743bfdd57",
      "7cbd4faf4b5f4cd48de478784d100745",
      "7f365be53d0d4d0bb08f42ab800f45e3",
      "a7fea7f0c5c34d3291bcc4b9f88c15f6",
      "7523bbe5bc9c4b32b0b07a2abd979331",
      "8d417375c78847b6b855894bc5b1837f",
      "22aa2a586a394e5c99136526d07a2823",
      "db2523954be8435885b7d0fc60e87637",
      "a132e43424c74ab6a8377a1b7513558c",
      "47c1efe89dc14b49b824318ae5a9c1b6",
      "c4c8e8a08d16438cbdfb4ac26765273f",
      "b1d597cbc29d438aa1c79fb4bfbe1f58",
      "617e1deae0dc4c1e81761aa729bb2f6d",
      "04b00b8ee79b465bae2a9b3987aade1e",
      "a06a0cb1fd2a43e6aa438d6d8836be77",
      "ae33eca6f6d3476a9129985e5c20f129",
      "534695cc95154d1487d8d44f736c2a06",
      "4f98edf7cf044298a3c23b179285693d",
      "df090a5fab624db5b4f405adbca2882d",
      "2a2fa5f703524d9392e568ae4390fef7",
      "046bc52ec5a84a44af93a32288cc622d",
      "3792ca6a00a643d586dfd1c9e93f1ccb",
      "acf1df72caa4472db6a29c0d6b5fb497",
      "de1a1fb393294685b81696b0572517fb",
      "b72ac10d020b436984d936c6531aea75",
      "541304c4099c4342a1710e9bc7c339d6",
      "c7b5356e88e342fb88f0d2e609446bc4",
      "746dc995f4194015bee37d56f1e91f24",
      "0ca451973dee402ea33cdc84471142ab",
      "db3cfc16f6b14c72ad4defe6a563874a",
      "e70c357ec1404e20aea0a63b0d02195a",
      "b882c79e83ce4143ae8484e569a3e284",
      "00fa89bedb6d4ccdb078abca002606eb",
      "06ff4b68400345729307308377a3d39a",
      "677d5268a4784cb4b78c2e70a424519c",
      "feaea1967cdb4787aa9a0934374ada77",
      "2a18f8760b4b44e28f585bbbb1d07afa",
      "656e18f6e66c4ca48f980eec2676412a",
      "4e38889139cd495ab390ed6de968e8ab",
      "2314c22d502144809b6b5d782201130d",
      "ffa24353f3444abab0cc120246517027",
      "083697c341004ecab4e196ddc1737700",
      "e9c96713a9d24fc795847bfba7cc5154",
      "5f4b7a3c1a324aaeade8b4f674c49a3d",
      "181020d6363c4e5eae84e27a401eec6d",
      "c1c9e599df2d4725b91a39ce8144e66f",
      "35914abd176c4de3a4ed82af6363acf3",
      "f165f091e671410facbe760dfc3171ea",
      "14e0e773e2f54fc090df50d4187d6bb9",
      "36ed9307cc64403f8bc6e69e09c5092e",
      "1b506d5cd3bf40b28513aadbc84b5d1e"
     ]
    },
    "id": "lIqNt2GEVwui",
    "outputId": "43fc12b0-7ecd-440e-a949-761f6326d432"
   },
   "outputs": [
    {
     "data": {
      "application/vnd.jupyter.widget-view+json": {
       "model_id": "8e5fb71b5eb4474a861028d7090de567",
       "version_major": 2,
       "version_minor": 0
      },
      "text/plain": [
       "README.md: 0.00B [00:00, ?B/s]"
      ]
     },
     "metadata": {},
     "output_type": "display_data"
    },
    {
     "data": {
      "application/vnd.jupyter.widget-view+json": {
       "model_id": "c0ccd1db8654478cb3a2a9830485614f",
       "version_major": 2,
       "version_minor": 0
      },
      "text/plain": [
       "sberquad/train-00000-of-00001.parquet:   0%|          | 0.00/11.4M [00:00<?, ?B/s]"
      ]
     },
     "metadata": {},
     "output_type": "display_data"
    },
    {
     "data": {
      "application/vnd.jupyter.widget-view+json": {
       "model_id": "b941f9a9c9dd4cea9e92e15e1f7c3e79",
       "version_major": 2,
       "version_minor": 0
      },
      "text/plain": [
       "sberquad/validation-00000-of-00001.parqu(…):   0%|          | 0.00/3.43M [00:00<?, ?B/s]"
      ]
     },
     "metadata": {},
     "output_type": "display_data"
    },
    {
     "data": {
      "application/vnd.jupyter.widget-view+json": {
       "model_id": "db2523954be8435885b7d0fc60e87637",
       "version_major": 2,
       "version_minor": 0
      },
      "text/plain": [
       "sberquad/test-00000-of-00001.parquet:   0%|          | 0.00/4.93M [00:00<?, ?B/s]"
      ]
     },
     "metadata": {},
     "output_type": "display_data"
    },
    {
     "data": {
      "application/vnd.jupyter.widget-view+json": {
       "model_id": "df090a5fab624db5b4f405adbca2882d",
       "version_major": 2,
       "version_minor": 0
      },
      "text/plain": [
       "Generating train split:   0%|          | 0/45328 [00:00<?, ? examples/s]"
      ]
     },
     "metadata": {},
     "output_type": "display_data"
    },
    {
     "data": {
      "application/vnd.jupyter.widget-view+json": {
       "model_id": "db3cfc16f6b14c72ad4defe6a563874a",
       "version_major": 2,
       "version_minor": 0
      },
      "text/plain": [
       "Generating validation split:   0%|          | 0/5036 [00:00<?, ? examples/s]"
      ]
     },
     "metadata": {},
     "output_type": "display_data"
    },
    {
     "data": {
      "application/vnd.jupyter.widget-view+json": {
       "model_id": "ffa24353f3444abab0cc120246517027",
       "version_major": 2,
       "version_minor": 0
      },
      "text/plain": [
       "Generating test split:   0%|          | 0/23936 [00:00<?, ? examples/s]"
      ]
     },
     "metadata": {},
     "output_type": "display_data"
    }
   ],
   "source": [
    "trainval = trainval_shuffled_data(from_file=False)\n",
    "\n",
    "# n_samples = 1000\n",
    "# questions, document_contexts, coss = zip(*trainval[:n_samples])\n",
    "questions, document_contexts, coss = zip(*trainval)"
   ]
  },
  {
   "cell_type": "code",
   "execution_count": null,
   "metadata": {
    "id": "Nyl5lh8pVzXj"
   },
   "outputs": [],
   "source": [
    "evaluator = evaluation.EmbeddingSimilarityEvaluator(questions, document_contexts, coss)"
   ]
  },
  {
   "cell_type": "code",
   "execution_count": null,
   "metadata": {
    "colab": {
     "base_uri": "https://localhost:8080/"
    },
    "id": "boMhBEKFV1bY",
    "outputId": "3547e5cf-d9cb-4031-ed66-c83dcd223a5d"
   },
   "outputs": [
    {
     "data": {
      "text/plain": [
       "{'pearson_cosine': np.float64(0.769310558201966),\n",
       " 'spearman_cosine': np.float64(0.7884154971700781),\n",
       " 'pearson_manhattan': np.float64(0.625522025665652),\n",
       " 'spearman_manhattan': np.float64(0.6456981414067576),\n",
       " 'pearson_euclidean': np.float64(0.6211237860402596),\n",
       " 'spearman_euclidean': np.float64(0.6412993370388377),\n",
       " 'pearson_dot': np.float64(0.7570034039894602),\n",
       " 'spearman_dot': np.float64(0.7930446043257426),\n",
       " 'pearson_max': np.float64(0.769310558201966),\n",
       " 'spearman_max': np.float64(0.7930446043257426)}"
      ]
     },
     "execution_count": 20,
     "metadata": {},
     "output_type": "execute_result"
    }
   ],
   "source": [
    "bi_encoder.evaluate(evaluator)"
   ]
  },
  {
   "cell_type": "markdown",
   "metadata": {
    "id": "bvv_slM-YYaZ"
   },
   "source": [
    "## Метрики близости без дообучения на test"
   ]
  },
  {
   "cell_type": "code",
   "execution_count": null,
   "metadata": {
    "id": "8O32cQiqYZFP"
   },
   "outputs": [],
   "source": [
    "test = test_shuffled_data(from_file=False)\n",
    "shuffle(test)\n",
    "\n",
    "n_test_samples = 1000\n",
    "test_questions, test_document_contexts, test_coss = zip(*test[:n_test_samples])"
   ]
  },
  {
   "cell_type": "code",
   "execution_count": null,
   "metadata": {
    "id": "Ft1W2QyqYejb"
   },
   "outputs": [],
   "source": [
    "evaluator = evaluation.EmbeddingSimilarityEvaluator(test_questions, test_document_contexts, test_coss)"
   ]
  },
  {
   "cell_type": "code",
   "execution_count": null,
   "metadata": {
    "id": "Nb_8cOaMYgy0"
   },
   "outputs": [],
   "source": [
    "bi_encoder = raw_bi_encoder()"
   ]
  },
  {
   "cell_type": "code",
   "execution_count": null,
   "metadata": {
    "colab": {
     "base_uri": "https://localhost:8080/"
    },
    "id": "SYvn4btxYkzw",
    "outputId": "88e75796-db5c-4beb-9340-649cd0283752"
   },
   "outputs": [
    {
     "data": {
      "text/plain": [
       "{'pearson_cosine': np.float64(0.7653367694311254),\n",
       " 'spearman_cosine': np.float64(0.7779718285169896),\n",
       " 'pearson_manhattan': np.float64(0.6103377231000275),\n",
       " 'spearman_manhattan': np.float64(0.6257719239466611),\n",
       " 'pearson_euclidean': np.float64(0.610671376438546),\n",
       " 'spearman_euclidean': np.float64(0.6246494444537907),\n",
       " 'pearson_dot': np.float64(0.7654380791654647),\n",
       " 'spearman_dot': np.float64(0.793783545817795),\n",
       " 'pearson_max': np.float64(0.7654380791654647),\n",
       " 'spearman_max': np.float64(0.793783545817795)}"
      ]
     },
     "execution_count": 24,
     "metadata": {},
     "output_type": "execute_result"
    }
   ],
   "source": [
    "bi_encoder.evaluate(evaluator)"
   ]
  },
  {
   "cell_type": "markdown",
   "metadata": {
    "id": "HLw7bNeUs1nw"
   },
   "source": [
    "Ожидаемо на необученной модели метрики для обучающих и тестовых данных примерно совпадают"
   ]
  },
  {
   "cell_type": "markdown",
   "metadata": {
    "id": "NjYNT70XZhn1"
   },
   "source": [
    "## Дообучение"
   ]
  },
  {
   "cell_type": "code",
   "execution_count": null,
   "metadata": {
    "id": "p1zx1ez7Zi6m"
   },
   "outputs": [],
   "source": [
    "# trainval_examples = trainval_examples()[:n_samples]\n",
    "trainval_examples = trainval_examples()"
   ]
  },
  {
   "cell_type": "code",
   "execution_count": null,
   "metadata": {
    "colab": {
     "base_uri": "https://localhost:8080/"
    },
    "id": "KdZPPcAhtwmQ",
    "outputId": "19437ec9-0998-4543-fae5-4c4aea8aba82"
   },
   "outputs": [
    {
     "name": "stdout",
     "output_type": "stream",
     "text": [
      "{'guid': '', 'texts': ['Чье мнение заключалось в том, что некоторые команды используют право доработки двигателя не для надежности а для увеличения мощности?', 'Приём атакующего удара отличается от приёма подачи, так как в защите в обязательном порядке всегда участвуют все 6 игроков, находящихся на площадке; некоторые игроки передней линии ставят блок (иногда все трое), а все остальные играют в защите. Цель защищающихся оставить мяч в игре и по возможности довести его пасующему. Защита может быть эффективной только в случае согласованных действий всех игроков команды, поэтому были разработаны схемы игры в защите, из которых прижились только две: углом назад и углом вперёд . В обеих схемах крайние защитники стоят по боковым линиям, выходя из-за блока в 5-6 метрах от сетки, а вот защитник в 6 зоне, в соответствии с названием схемы, играет или непосредственно позади блока (ловит скидки за блок), или за лицевой линией (играет дальние рикошеты от блока).'], 'label': 0.0}\n"
     ]
    }
   ],
   "source": [
    "print(trainval_examples[0].__dict__)"
   ]
  },
  {
   "cell_type": "markdown",
   "metadata": {
    "id": "qRQ-zrr7t7Rr"
   },
   "source": [
    "Негативный семпл"
   ]
  },
  {
   "cell_type": "code",
   "execution_count": null,
   "metadata": {
    "id": "2coVeTFMZnmo"
   },
   "outputs": [],
   "source": [
    "from torch.utils.data import DataLoader\n",
    "\n",
    "trainval_dataloader_set = DataLoader(\n",
    "    trainval_examples,\n",
    "    shuffle=True,\n",
    "    batch_size=32,\n",
    "    collate_fn=bi_encoder.smart_batching_collate # special batch + tokenizer\n",
    ")"
   ]
  },
  {
   "cell_type": "code",
   "execution_count": null,
   "metadata": {
    "id": "M7OFU_JrZx3K"
   },
   "outputs": [],
   "source": [
    "from sentence_transformers import losses\n",
    "\n",
    "trainval_loss_set = losses.CosineSimilarityLoss(bi_encoder)"
   ]
  },
  {
   "cell_type": "code",
   "execution_count": null,
   "metadata": {
    "colab": {
     "base_uri": "https://localhost:8080/"
    },
    "id": "YCo-FQKhZzyb",
    "outputId": "ba6caf04-0e93-42eb-c91a-713620241f80"
   },
   "outputs": [
    {
     "data": {
      "text/plain": [
       "CosineSimilarityLoss(\n",
       "  (model): SentenceTransformer(\n",
       "    (0): Transformer({'max_seq_length': 256, 'do_lower_case': False}) with Transformer model: BertModel \n",
       "    (1): Pooling({'word_embedding_dimension': 312, 'pooling_mode_cls_token': False, 'pooling_mode_mean_tokens': True, 'pooling_mode_max_tokens': False, 'pooling_mode_mean_sqrt_len_tokens': False, 'pooling_mode_weightedmean_tokens': False, 'pooling_mode_lasttoken': False, 'include_prompt': True})\n",
       "  )\n",
       "  (loss_fct): MSELoss()\n",
       "  (cos_score_transformation): Identity()\n",
       ")"
      ]
     },
     "execution_count": 29,
     "metadata": {},
     "output_type": "execute_result"
    }
   ],
   "source": [
    "trainval_loss_set"
   ]
  },
  {
   "cell_type": "markdown",
   "metadata": {
    "id": "kHY_mGifwcoZ"
   },
   "source": [
    "добавили лосс к модели"
   ]
  },
  {
   "cell_type": "code",
   "execution_count": null,
   "metadata": {
    "id": "sDaP3OJUaZb8"
   },
   "outputs": [],
   "source": [
    "# формирование батча\n",
    "(query_batch, context_batch), labels = next(iter(trainval_dataloader_set))"
   ]
  },
  {
   "cell_type": "code",
   "execution_count": null,
   "metadata": {
    "colab": {
     "base_uri": "https://localhost:8080/"
    },
    "id": "JEMACUVvwqFC",
    "outputId": "09b09276-f2c9-4273-e0b7-eb39ceca9699"
   },
   "outputs": [
    {
     "data": {
      "text/plain": [
       "(torch.Size([32, 23]), torch.Size([32, 256]), torch.Size([32]))"
      ]
     },
     "execution_count": 31,
     "metadata": {},
     "output_type": "execute_result"
    }
   ],
   "source": [
    "query_batch['input_ids'].shape, context_batch['input_ids'].shape, labels.shape"
   ]
  },
  {
   "cell_type": "code",
   "execution_count": null,
   "metadata": {
    "id": "cRiAF8krbby4"
   },
   "outputs": [],
   "source": [
    "import os\n",
    "os.environ[\"WANDB_DISABLED\"] = \"true\" # встроен в colab"
   ]
  },
  {
   "cell_type": "code",
   "execution_count": null,
   "metadata": {
    "colab": {
     "base_uri": "https://localhost:8080/",
     "height": 1000,
     "referenced_widgets": [
      "1c0bdb7ba4504a4287c629e449a63458",
      "70052721d3a84097a3de03560e8b43ab",
      "af10a9e9a9084ed7ab6292b93d81a0a5",
      "54fdd4f0dc67461eb6855733e83a1888",
      "028d719906a44c26ae0bd2859d8de5a1",
      "ebf2a8a93bda4207a10e4b9a25e0d72d",
      "3104283af9ba48a8a9b9508233c486e0",
      "52da37937a7e49919f5379810dab0d8f",
      "eea8643f290a42019c1bc6cd13f9266b",
      "bdd0c0fd76ee4b3b8d54178d8c871c7e",
      "9e9cf1b5bbb54a0d871bf4d5ef23543d"
     ]
    },
    "id": "atFhsAxmabQt",
    "outputId": "93175d90-ca9a-485d-ab98-1414e6fae23f"
   },
   "outputs": [
    {
     "name": "stderr",
     "output_type": "stream",
     "text": [
      "Using the `WANDB_DISABLED` environment variable is deprecated and will be removed in v5. Use the --report_to flag to control the integrations used for logging result (for instance --report_to none).\n",
      "Using the `WANDB_DISABLED` environment variable is deprecated and will be removed in v5. Use the --report_to flag to control the integrations used for logging result (for instance --report_to none).\n"
     ]
    },
    {
     "data": {
      "text/html": [
       "\n",
       "    <div>\n",
       "      \n",
       "      <progress value='15740' max='15740' style='width:300px; height:20px; vertical-align: middle;'></progress>\n",
       "      [15740/15740 29:36, Epoch 5/5]\n",
       "    </div>\n",
       "    <table border=\"1\" class=\"dataframe\">\n",
       "  <thead>\n",
       " <tr style=\"text-align: left;\">\n",
       "      <th>Step</th>\n",
       "      <th>Training Loss</th>\n",
       "      <th>Validation Loss</th>\n",
       "      <th>Pearson Cosine</th>\n",
       "      <th>Spearman Cosine</th>\n",
       "      <th>Pearson Manhattan</th>\n",
       "      <th>Spearman Manhattan</th>\n",
       "      <th>Pearson Euclidean</th>\n",
       "      <th>Spearman Euclidean</th>\n",
       "      <th>Pearson Dot</th>\n",
       "      <th>Spearman Dot</th>\n",
       "      <th>Pearson Max</th>\n",
       "      <th>Spearman Max</th>\n",
       "    </tr>\n",
       "  </thead>\n",
       "  <tbody>\n",
       "    <tr>\n",
       "      <td>500</td>\n",
       "      <td>0.169100</td>\n",
       "    </tr>\n",
       "    <tr>\n",
       "      <td>1000</td>\n",
       "      <td>0.133900</td>\n",
       "    </tr>\n",
       "    <tr>\n",
       "      <td>1500</td>\n",
       "      <td>0.100100</td>\n",
       "    </tr>\n",
       "    <tr>\n",
       "      <td>2000</td>\n",
       "      <td>0.088300</td>\n",
       "    </tr>\n",
       "    <tr>\n",
       "      <td>2500</td>\n",
       "      <td>0.083000</td>\n",
       "    </tr>\n",
       "    <tr>\n",
       "      <td>3000</td>\n",
       "      <td>0.078100</td>\n",
       "    </tr>\n",
       "    <tr>\n",
       "      <td>3148</td>\n",
       "      <td>0.078100</td>\n",
       "      <td>No log</td>\n",
       "      <td>0.861964</td>\n",
       "      <td>0.834221</td>\n",
       "      <td>0.860930</td>\n",
       "      <td>0.836355</td>\n",
       "      <td>0.861432</td>\n",
       "      <td>0.836237</td>\n",
       "      <td>0.836753</td>\n",
       "      <td>0.823197</td>\n",
       "      <td>0.861964</td>\n",
       "      <td>0.836355</td>\n",
       "    </tr>\n",
       "    <tr>\n",
       "      <td>3500</td>\n",
       "      <td>0.074000</td>\n",
       "      <td>No Log</td>\n",
       "      <td>No Log</td>\n",
       "      <td>No Log</td>\n",
       "      <td>No Log</td>\n",
       "      <td>No Log</td>\n",
       "      <td>No Log</td>\n",
       "      <td>No Log</td>\n",
       "      <td>No Log</td>\n",
       "      <td>No Log</td>\n",
       "      <td>No Log</td>\n",
       "      <td>No Log</td>\n",
       "    </tr>\n",
       "    <tr>\n",
       "      <td>4000</td>\n",
       "      <td>0.070700</td>\n",
       "      <td>No Log</td>\n",
       "      <td>No Log</td>\n",
       "      <td>No Log</td>\n",
       "      <td>No Log</td>\n",
       "      <td>No Log</td>\n",
       "      <td>No Log</td>\n",
       "      <td>No Log</td>\n",
       "      <td>No Log</td>\n",
       "      <td>No Log</td>\n",
       "      <td>No Log</td>\n",
       "      <td>No Log</td>\n",
       "    </tr>\n",
       "    <tr>\n",
       "      <td>4500</td>\n",
       "      <td>0.069500</td>\n",
       "      <td>No Log</td>\n",
       "      <td>No Log</td>\n",
       "      <td>No Log</td>\n",
       "      <td>No Log</td>\n",
       "      <td>No Log</td>\n",
       "      <td>No Log</td>\n",
       "      <td>No Log</td>\n",
       "      <td>No Log</td>\n",
       "      <td>No Log</td>\n",
       "      <td>No Log</td>\n",
       "      <td>No Log</td>\n",
       "    </tr>\n",
       "    <tr>\n",
       "      <td>5000</td>\n",
       "      <td>0.069000</td>\n",
       "      <td>No Log</td>\n",
       "      <td>No Log</td>\n",
       "      <td>No Log</td>\n",
       "      <td>No Log</td>\n",
       "      <td>No Log</td>\n",
       "      <td>No Log</td>\n",
       "      <td>No Log</td>\n",
       "      <td>No Log</td>\n",
       "      <td>No Log</td>\n",
       "      <td>No Log</td>\n",
       "      <td>No Log</td>\n",
       "    </tr>\n",
       "    <tr>\n",
       "      <td>5500</td>\n",
       "      <td>0.066600</td>\n",
       "      <td>No Log</td>\n",
       "      <td>No Log</td>\n",
       "      <td>No Log</td>\n",
       "      <td>No Log</td>\n",
       "      <td>No Log</td>\n",
       "      <td>No Log</td>\n",
       "      <td>No Log</td>\n",
       "      <td>No Log</td>\n",
       "      <td>No Log</td>\n",
       "      <td>No Log</td>\n",
       "      <td>No Log</td>\n",
       "    </tr>\n",
       "    <tr>\n",
       "      <td>6000</td>\n",
       "      <td>0.065800</td>\n",
       "      <td>No Log</td>\n",
       "      <td>No Log</td>\n",
       "      <td>No Log</td>\n",
       "      <td>No Log</td>\n",
       "      <td>No Log</td>\n",
       "      <td>No Log</td>\n",
       "      <td>No Log</td>\n",
       "      <td>No Log</td>\n",
       "      <td>No Log</td>\n",
       "      <td>No Log</td>\n",
       "      <td>No Log</td>\n",
       "    </tr>\n",
       "    <tr>\n",
       "      <td>6296</td>\n",
       "      <td>0.065800</td>\n",
       "      <td>No log</td>\n",
       "      <td>0.868845</td>\n",
       "      <td>0.836556</td>\n",
       "      <td>0.870266</td>\n",
       "      <td>0.838842</td>\n",
       "      <td>0.870905</td>\n",
       "      <td>0.838690</td>\n",
       "      <td>0.844906</td>\n",
       "      <td>0.825608</td>\n",
       "      <td>0.870905</td>\n",
       "      <td>0.838842</td>\n",
       "    </tr>\n",
       "    <tr>\n",
       "      <td>6500</td>\n",
       "      <td>0.061600</td>\n",
       "      <td>No Log</td>\n",
       "      <td>No Log</td>\n",
       "      <td>No Log</td>\n",
       "      <td>No Log</td>\n",
       "      <td>No Log</td>\n",
       "      <td>No Log</td>\n",
       "      <td>No Log</td>\n",
       "      <td>No Log</td>\n",
       "      <td>No Log</td>\n",
       "      <td>No Log</td>\n",
       "      <td>No Log</td>\n",
       "    </tr>\n",
       "    <tr>\n",
       "      <td>7000</td>\n",
       "      <td>0.057500</td>\n",
       "      <td>No Log</td>\n",
       "      <td>No Log</td>\n",
       "      <td>No Log</td>\n",
       "      <td>No Log</td>\n",
       "      <td>No Log</td>\n",
       "      <td>No Log</td>\n",
       "      <td>No Log</td>\n",
       "      <td>No Log</td>\n",
       "      <td>No Log</td>\n",
       "      <td>No Log</td>\n",
       "      <td>No Log</td>\n",
       "    </tr>\n",
       "    <tr>\n",
       "      <td>7500</td>\n",
       "      <td>0.059000</td>\n",
       "      <td>No Log</td>\n",
       "      <td>No Log</td>\n",
       "      <td>No Log</td>\n",
       "      <td>No Log</td>\n",
       "      <td>No Log</td>\n",
       "      <td>No Log</td>\n",
       "      <td>No Log</td>\n",
       "      <td>No Log</td>\n",
       "      <td>No Log</td>\n",
       "      <td>No Log</td>\n",
       "      <td>No Log</td>\n",
       "    </tr>\n",
       "    <tr>\n",
       "      <td>8000</td>\n",
       "      <td>0.056000</td>\n",
       "      <td>No Log</td>\n",
       "      <td>No Log</td>\n",
       "      <td>No Log</td>\n",
       "      <td>No Log</td>\n",
       "      <td>No Log</td>\n",
       "      <td>No Log</td>\n",
       "      <td>No Log</td>\n",
       "      <td>No Log</td>\n",
       "      <td>No Log</td>\n",
       "      <td>No Log</td>\n",
       "      <td>No Log</td>\n",
       "    </tr>\n",
       "    <tr>\n",
       "      <td>8500</td>\n",
       "      <td>0.056200</td>\n",
       "      <td>No Log</td>\n",
       "      <td>No Log</td>\n",
       "      <td>No Log</td>\n",
       "      <td>No Log</td>\n",
       "      <td>No Log</td>\n",
       "      <td>No Log</td>\n",
       "      <td>No Log</td>\n",
       "      <td>No Log</td>\n",
       "      <td>No Log</td>\n",
       "      <td>No Log</td>\n",
       "      <td>No Log</td>\n",
       "    </tr>\n",
       "    <tr>\n",
       "      <td>9000</td>\n",
       "      <td>0.054100</td>\n",
       "      <td>No Log</td>\n",
       "      <td>No Log</td>\n",
       "      <td>No Log</td>\n",
       "      <td>No Log</td>\n",
       "      <td>No Log</td>\n",
       "      <td>No Log</td>\n",
       "      <td>No Log</td>\n",
       "      <td>No Log</td>\n",
       "      <td>No Log</td>\n",
       "      <td>No Log</td>\n",
       "      <td>No Log</td>\n",
       "    </tr>\n",
       "    <tr>\n",
       "      <td>9444</td>\n",
       "      <td>0.054100</td>\n",
       "      <td>No log</td>\n",
       "      <td>0.879234</td>\n",
       "      <td>0.840124</td>\n",
       "      <td>0.876075</td>\n",
       "      <td>0.840879</td>\n",
       "      <td>0.876763</td>\n",
       "      <td>0.840955</td>\n",
       "      <td>0.857312</td>\n",
       "      <td>0.831761</td>\n",
       "      <td>0.879234</td>\n",
       "      <td>0.840955</td>\n",
       "    </tr>\n",
       "    <tr>\n",
       "      <td>9500</td>\n",
       "      <td>0.052300</td>\n",
       "      <td>No Log</td>\n",
       "      <td>No Log</td>\n",
       "      <td>No Log</td>\n",
       "      <td>No Log</td>\n",
       "      <td>No Log</td>\n",
       "      <td>No Log</td>\n",
       "      <td>No Log</td>\n",
       "      <td>No Log</td>\n",
       "      <td>No Log</td>\n",
       "      <td>No Log</td>\n",
       "      <td>No Log</td>\n",
       "    </tr>\n",
       "    <tr>\n",
       "      <td>10000</td>\n",
       "      <td>0.045700</td>\n",
       "      <td>No Log</td>\n",
       "      <td>No Log</td>\n",
       "      <td>No Log</td>\n",
       "      <td>No Log</td>\n",
       "      <td>No Log</td>\n",
       "      <td>No Log</td>\n",
       "      <td>No Log</td>\n",
       "      <td>No Log</td>\n",
       "      <td>No Log</td>\n",
       "      <td>No Log</td>\n",
       "      <td>No Log</td>\n",
       "    </tr>\n",
       "    <tr>\n",
       "      <td>10500</td>\n",
       "      <td>0.045300</td>\n",
       "      <td>No Log</td>\n",
       "      <td>No Log</td>\n",
       "      <td>No Log</td>\n",
       "      <td>No Log</td>\n",
       "      <td>No Log</td>\n",
       "      <td>No Log</td>\n",
       "      <td>No Log</td>\n",
       "      <td>No Log</td>\n",
       "      <td>No Log</td>\n",
       "      <td>No Log</td>\n",
       "      <td>No Log</td>\n",
       "    </tr>\n",
       "    <tr>\n",
       "      <td>11000</td>\n",
       "      <td>0.045400</td>\n",
       "      <td>No Log</td>\n",
       "      <td>No Log</td>\n",
       "      <td>No Log</td>\n",
       "      <td>No Log</td>\n",
       "      <td>No Log</td>\n",
       "      <td>No Log</td>\n",
       "      <td>No Log</td>\n",
       "      <td>No Log</td>\n",
       "      <td>No Log</td>\n",
       "      <td>No Log</td>\n",
       "      <td>No Log</td>\n",
       "    </tr>\n",
       "    <tr>\n",
       "      <td>11500</td>\n",
       "      <td>0.044000</td>\n",
       "      <td>No Log</td>\n",
       "      <td>No Log</td>\n",
       "      <td>No Log</td>\n",
       "      <td>No Log</td>\n",
       "      <td>No Log</td>\n",
       "      <td>No Log</td>\n",
       "      <td>No Log</td>\n",
       "      <td>No Log</td>\n",
       "      <td>No Log</td>\n",
       "      <td>No Log</td>\n",
       "      <td>No Log</td>\n",
       "    </tr>\n",
       "    <tr>\n",
       "      <td>12000</td>\n",
       "      <td>0.044700</td>\n",
       "      <td>No Log</td>\n",
       "      <td>No Log</td>\n",
       "      <td>No Log</td>\n",
       "      <td>No Log</td>\n",
       "      <td>No Log</td>\n",
       "      <td>No Log</td>\n",
       "      <td>No Log</td>\n",
       "      <td>No Log</td>\n",
       "      <td>No Log</td>\n",
       "      <td>No Log</td>\n",
       "      <td>No Log</td>\n",
       "    </tr>\n",
       "    <tr>\n",
       "      <td>12500</td>\n",
       "      <td>0.044100</td>\n",
       "      <td>No Log</td>\n",
       "      <td>No Log</td>\n",
       "      <td>No Log</td>\n",
       "      <td>No Log</td>\n",
       "      <td>No Log</td>\n",
       "      <td>No Log</td>\n",
       "      <td>No Log</td>\n",
       "      <td>No Log</td>\n",
       "      <td>No Log</td>\n",
       "      <td>No Log</td>\n",
       "      <td>No Log</td>\n",
       "    </tr>\n",
       "    <tr>\n",
       "      <td>12592</td>\n",
       "      <td>0.044100</td>\n",
       "      <td>No log</td>\n",
       "      <td>0.879555</td>\n",
       "      <td>0.838995</td>\n",
       "      <td>0.875154</td>\n",
       "      <td>0.839577</td>\n",
       "      <td>0.875656</td>\n",
       "      <td>0.839438</td>\n",
       "      <td>0.859179</td>\n",
       "      <td>0.831927</td>\n",
       "      <td>0.879555</td>\n",
       "      <td>0.839577</td>\n",
       "    </tr>\n",
       "    <tr>\n",
       "      <td>13000</td>\n",
       "      <td>0.038000</td>\n",
       "      <td>No Log</td>\n",
       "      <td>No Log</td>\n",
       "      <td>No Log</td>\n",
       "      <td>No Log</td>\n",
       "      <td>No Log</td>\n",
       "      <td>No Log</td>\n",
       "      <td>No Log</td>\n",
       "      <td>No Log</td>\n",
       "      <td>No Log</td>\n",
       "      <td>No Log</td>\n",
       "      <td>No Log</td>\n",
       "    </tr>\n",
       "    <tr>\n",
       "      <td>13500</td>\n",
       "      <td>0.038100</td>\n",
       "      <td>No Log</td>\n",
       "      <td>No Log</td>\n",
       "      <td>No Log</td>\n",
       "      <td>No Log</td>\n",
       "      <td>No Log</td>\n",
       "      <td>No Log</td>\n",
       "      <td>No Log</td>\n",
       "      <td>No Log</td>\n",
       "      <td>No Log</td>\n",
       "      <td>No Log</td>\n",
       "      <td>No Log</td>\n",
       "    </tr>\n",
       "    <tr>\n",
       "      <td>14000</td>\n",
       "      <td>0.036900</td>\n",
       "      <td>No Log</td>\n",
       "      <td>No Log</td>\n",
       "      <td>No Log</td>\n",
       "      <td>No Log</td>\n",
       "      <td>No Log</td>\n",
       "      <td>No Log</td>\n",
       "      <td>No Log</td>\n",
       "      <td>No Log</td>\n",
       "      <td>No Log</td>\n",
       "      <td>No Log</td>\n",
       "      <td>No Log</td>\n",
       "    </tr>\n",
       "    <tr>\n",
       "      <td>14500</td>\n",
       "      <td>0.035800</td>\n",
       "      <td>No Log</td>\n",
       "      <td>No Log</td>\n",
       "      <td>No Log</td>\n",
       "      <td>No Log</td>\n",
       "      <td>No Log</td>\n",
       "      <td>No Log</td>\n",
       "      <td>No Log</td>\n",
       "      <td>No Log</td>\n",
       "      <td>No Log</td>\n",
       "      <td>No Log</td>\n",
       "      <td>No Log</td>\n",
       "    </tr>\n",
       "    <tr>\n",
       "      <td>15000</td>\n",
       "      <td>0.036000</td>\n",
       "      <td>No Log</td>\n",
       "      <td>No Log</td>\n",
       "      <td>No Log</td>\n",
       "      <td>No Log</td>\n",
       "      <td>No Log</td>\n",
       "      <td>No Log</td>\n",
       "      <td>No Log</td>\n",
       "      <td>No Log</td>\n",
       "      <td>No Log</td>\n",
       "      <td>No Log</td>\n",
       "      <td>No Log</td>\n",
       "    </tr>\n",
       "    <tr>\n",
       "      <td>15500</td>\n",
       "      <td>0.036000</td>\n",
       "      <td>No Log</td>\n",
       "      <td>No Log</td>\n",
       "      <td>No Log</td>\n",
       "      <td>No Log</td>\n",
       "      <td>No Log</td>\n",
       "      <td>No Log</td>\n",
       "      <td>No Log</td>\n",
       "      <td>No Log</td>\n",
       "      <td>No Log</td>\n",
       "      <td>No Log</td>\n",
       "      <td>No Log</td>\n",
       "    </tr>\n",
       "    <tr>\n",
       "      <td>15740</td>\n",
       "      <td>0.036000</td>\n",
       "      <td>No log</td>\n",
       "      <td>0.877431</td>\n",
       "      <td>0.837595</td>\n",
       "      <td>0.873330</td>\n",
       "      <td>0.838385</td>\n",
       "      <td>0.873905</td>\n",
       "      <td>0.838232</td>\n",
       "      <td>0.856073</td>\n",
       "      <td>0.829772</td>\n",
       "      <td>0.877431</td>\n",
       "      <td>0.838385</td>\n",
       "    </tr>\n",
       "  </tbody>\n",
       "</table><p>"
      ],
      "text/plain": [
       "<IPython.core.display.HTML object>"
      ]
     },
     "metadata": {},
     "output_type": "display_data"
    },
    {
     "data": {
      "application/vnd.jupyter.widget-view+json": {
       "model_id": "1c0bdb7ba4504a4287c629e449a63458",
       "version_major": 2,
       "version_minor": 0
      },
      "text/plain": [
       "Computing widget examples:   0%|          | 0/1 [00:00<?, ?example/s]"
      ]
     },
     "metadata": {},
     "output_type": "display_data"
    }
   ],
   "source": [
    "# запуск дообучения\n",
    "bi_encoder.fit(\n",
    "    train_objectives=[(trainval_dataloader_set, trainval_loss_set)],\n",
    "    output_path='qa/results',\n",
    "    epochs=5,\n",
    "    evaluator=evaluator,\n",
    ")"
   ]
  },
  {
   "cell_type": "markdown",
   "metadata": {
    "id": "YYS2jZFgbyfM"
   },
   "source": [
    "## Загрузка чекпоинта"
   ]
  },
  {
   "cell_type": "code",
   "execution_count": null,
   "metadata": {
    "id": "1Q-aoWAkbz4X"
   },
   "outputs": [],
   "source": [
    "from sentence_transformers import SentenceTransformer\n",
    "\n",
    "finetuned_bi_encoder = SentenceTransformer('qa/results')"
   ]
  },
  {
   "cell_type": "code",
   "execution_count": null,
   "metadata": {
    "colab": {
     "base_uri": "https://localhost:8080/"
    },
    "id": "r_0Lg_4ab2bM",
    "outputId": "51617593-2cf2-4b37-e2b5-2db88abb88f3"
   },
   "outputs": [
    {
     "data": {
      "text/plain": [
       "{'pearson_cosine': np.float64(0.879234020346868),\n",
       " 'spearman_cosine': np.float64(0.8401239337703743),\n",
       " 'pearson_manhattan': np.float64(0.8760751764812653),\n",
       " 'spearman_manhattan': np.float64(0.8408791823180464),\n",
       " 'pearson_euclidean': np.float64(0.8767630475996712),\n",
       " 'spearman_euclidean': np.float64(0.8409554000613894),\n",
       " 'pearson_dot': np.float64(0.8573123084617146),\n",
       " 'spearman_dot': np.float64(0.8317607686599132),\n",
       " 'pearson_max': np.float64(0.879234020346868),\n",
       " 'spearman_max': np.float64(0.8409554000613894)}"
      ]
     },
     "execution_count": 35,
     "metadata": {},
     "output_type": "execute_result"
    }
   ],
   "source": [
    "finetuned_bi_encoder.evaluate(evaluator)"
   ]
  },
  {
   "cell_type": "markdown",
   "metadata": {
    "id": "BF7OxOmvfjYc"
   },
   "source": [
    "## Получение предсказаний модели и меток."
   ]
  },
  {
   "cell_type": "markdown",
   "metadata": {
    "id": "5iJwnzQuz6xX"
   },
   "source": [
    "Загрузка и отчистка данных"
   ]
  },
  {
   "cell_type": "code",
   "execution_count": null,
   "metadata": {
    "colab": {
     "base_uri": "https://localhost:8080/"
    },
    "id": "BOe2rPPGfhiy",
    "outputId": "f3448d04-d27c-4f5b-c6bc-b5ee12e98c40"
   },
   "outputs": [
    {
     "name": "stdout",
     "output_type": "stream",
     "text": [
      "docs count before shrinking: 1000\n",
      "docs count without duplicates: 167\n"
     ]
    }
   ],
   "source": [
    "data = test_shuffled_data(from_file=True)\n",
    "n_test_samples = 1000\n",
    "queries, docs, labels = zip(*data[:n_test_samples])\n",
    "\n",
    "print(f'docs count before shrinking: {len(docs)}')\n",
    "\n",
    "queries, docs, labels = shrink_repeated_samples(\n",
    "    queries=queries,\n",
    "    docs=docs,\n",
    "    labels=labels,\n",
    ")\n",
    "\n",
    "print(f'docs count without duplicates: {len(docs)}')"
   ]
  },
  {
   "cell_type": "markdown",
   "metadata": {
    "id": "A3TYqsRSeLyQ"
   },
   "source": [
    "Получение эмбеддингов (кодирование)"
   ]
  },
  {
   "cell_type": "code",
   "execution_count": null,
   "metadata": {
    "colab": {
     "base_uri": "https://localhost:8080/",
     "height": 49,
     "referenced_widgets": [
      "d2851fe55b594add9ba0f15950a820f5",
      "50607ca294ce4402840c2b367dca4624",
      "5cc2fca38747437a9f0b17ad29264964",
      "ca38569aef924c9c815108f29b826773",
      "e6c541a9b588448e80e6400d3e5ef115",
      "87d9e34e821947bf92e04badd5a64687",
      "cabe44eb47394b34981b306c99176b38",
      "ab35fcf933444a0fa0ffaddd5fe261a4",
      "1f25b0bbae6d457aa7c3c821acf25163",
      "cbb1bef1ccae4d67b665413be881db0c",
      "4c442454cc2148d8ab8cbc55e9a7213e"
     ]
    },
    "id": "zJDKhlpDftdb",
    "outputId": "d22d6f66-72ef-4a7f-8fad-43601ac8bf64"
   },
   "outputs": [
    {
     "data": {
      "application/vnd.jupyter.widget-view+json": {
       "model_id": "d2851fe55b594add9ba0f15950a820f5",
       "version_major": 2,
       "version_minor": 0
      },
      "text/plain": [
       "Batches:   0%|          | 0/6 [00:00<?, ?it/s]"
      ]
     },
     "metadata": {},
     "output_type": "display_data"
    }
   ],
   "source": [
    "doc_embs = finetuned_bi_encoder.encode(\n",
    "    docs,\n",
    "    convert_to_tensor=True,\n",
    "    show_progress_bar=True,\n",
    ")"
   ]
  },
  {
   "cell_type": "code",
   "execution_count": null,
   "metadata": {
    "colab": {
     "base_uri": "https://localhost:8080/",
     "height": 49,
     "referenced_widgets": [
      "cae01bba77b04913b359638b5163558f",
      "d1b5e007318a4eadb68d7e0b730903c9",
      "533b5d85995f413d8993345de3c2f6ca",
      "cd277de3acab42a5b2b2fc39000d8fcc",
      "7f7417adee4c4e25b248906879557ab9",
      "adc8c42776154a15880e355f67e0946e",
      "a7dcf90508ff4761984fb7a02e247bec",
      "1c0f6d10a863493785dfd09e8f554d99",
      "7d21ded691114dbda05f6d03ebe8268d",
      "65ca6742465b468eb0f7b22c7afa4924",
      "587317e15fb24298bac659626361ad50"
     ]
    },
    "id": "K5IFfDUhfwCw",
    "outputId": "af33f7fc-3c85-491e-9021-ec910bca8d58"
   },
   "outputs": [
    {
     "data": {
      "application/vnd.jupyter.widget-view+json": {
       "model_id": "cae01bba77b04913b359638b5163558f",
       "version_major": 2,
       "version_minor": 0
      },
      "text/plain": [
       "Batches:   0%|          | 0/6 [00:00<?, ?it/s]"
      ]
     },
     "metadata": {},
     "output_type": "display_data"
    }
   ],
   "source": [
    "query_embs = finetuned_bi_encoder.encode(\n",
    "    queries,\n",
    "    convert_to_tensor=True,\n",
    "    show_progress_bar=True,\n",
    ")"
   ]
  },
  {
   "cell_type": "markdown",
   "metadata": {
    "id": "2WXYgdJq06kD"
   },
   "source": [
    "## Семантический поиск"
   ]
  },
  {
   "cell_type": "code",
   "execution_count": null,
   "metadata": {
    "id": "LRe5j99CgaIx"
   },
   "outputs": [],
   "source": [
    "from sentence_transformers import util\n",
    "\n",
    "cos_scores = util.semantic_search(query_embs, doc_embs, top_k=100)"
   ]
  },
  {
   "cell_type": "code",
   "execution_count": null,
   "metadata": {
    "colab": {
     "base_uri": "https://localhost:8080/"
    },
    "id": "jnII5tyqgefB",
    "outputId": "ff5b0c7d-aae9-468f-c60c-a5fce2f15bfa"
   },
   "outputs": [
    {
     "name": "stdout",
     "output_type": "stream",
     "text": [
      "[{'corpus_id': 0, 'score': 0.8404512405395508}, {'corpus_id': 78, 'score': 0.8367081880569458}, {'corpus_id': 48, 'score': 0.8257060050964355}, {'corpus_id': 35, 'score': 0.8039032220840454}, {'corpus_id': 141, 'score': 0.7665048837661743}]\n"
     ]
    }
   ],
   "source": [
    "print(cos_scores[0][:5])"
   ]
  },
  {
   "cell_type": "code",
   "execution_count": null,
   "metadata": {
    "id": "bOStF46Ugj03"
   },
   "outputs": [],
   "source": [
    "top_k = 5\n",
    "q_idx = 1"
   ]
  },
  {
   "cell_type": "code",
   "execution_count": null,
   "metadata": {
    "colab": {
     "base_uri": "https://localhost:8080/"
    },
    "id": "mfllaqn0gmK4",
    "outputId": "2c61dbba-12a7-4467-c242-a3a1be54bc9e"
   },
   "outputs": [
    {
     "name": "stdout",
     "output_type": "stream",
     "text": [
      "Question:  Когда была получена лицензия на осуществление банковских операций в иностранной валюте?\n",
      "\n",
      "corpus id:  145\n",
      "Document 1: Cosine Similarity is 0.830:\n",
      "\n",
      "Банковская система Израиля работает во многих сферах, управляет сберегательными и инвестиционными фондами и выступает в качестве их опекуна, управляет ценными бумагами клиентов, функционирует в качестве их хранителя, дистрибьютор и дилер ценными бумагами на фондовой бирже, выступает в качестве финансового консультанта и т. д. Такая концентрация жизненно важных услуг, и осознание того, что любой сбой в банковской системе нанесет серьёзный ущерб нормальному функционированию всей экономики Израиля, требует от руководства банков предельной ответственности.\n",
      "\n",
      "corpus id:  166\n",
      "Document 2: Cosine Similarity is 0.797:\n",
      "\n",
      "С 1 января 2011 года евро стал в Эстонии единственным законным платёжным средством, наличные кроны имели хождение параллельно с евро в течение 2 недель (в электронных расчётах, очень популярных в Эстонии, переход прошёл одномоментно). Обмен наличных крон (включая мелкие монеты, для удобства обмена которых в банковских конторах были установлены специальные автоматы) на евро в любых банковских конторах был возможен в течение полугода после перехода на новую валюту, Банк Эстонии будет осуществлять обмен без ограничения сроков.\n",
      "\n",
      "corpus id:  107\n",
      "Document 3: Cosine Similarity is 0.781:\n",
      "\n",
      "В 2008 году банк оптимизировал свою стратегию, гибко отреагировав на кризис. Банк сосредоточился на кредитах наличными и кредитах в точках продаж, свернув ипотеку и автокредитование. В 2009 году банк вышел на рынок зарплатных проектов, развивает сеть банкоматов, предлагает клиентам услуги SMS-уведомлений и Интернет-банкинг. Хоум Кредит становится № 1 на рынке кредитования в точках продаж. В 2010 году банк добивается рекордной прибыли по МСФО за все время существования — 9,4 млрд руб. Возобновляет выдачу автокредитов и активную региональную экспансию. \n",
      "\n",
      "corpus id:  1\n",
      "Document 4: Cosine Similarity is 0.774:\n",
      "\n",
      "Акционерное общество открытого типа АКБ „Московский кредитный банк“ было создано в 1992 году по инициативе и на средства московского предпринимателя Бориса Борисова. В число первоначальных учредителей вошла группа частных предприятий (ЧМП Ост , ЧМП Пеленг , ЧМП Эллипс и другие, представлявшие собой группу аффилированных лиц) и товарно-сырьевая биржа Потенциал России (ныне не существует). Б. А. Борисов возглавил совет директоров банка. Правление банка возглавил соучредитель банка В. А. Кухтаров. 19 августа 1992 года банком была получена лицензия на осуществление банковских операций № 1978; 2 декабря 1993 года получена лицензия на осуществление банковских операций в иностранной валюте.\n",
      "\n",
      "corpus id:  123\n",
      "Document 5: Cosine Similarity is 0.765:\n",
      "\n",
      "Первый — это предоставление овердрафта на короткий срок (1—2 месяца), по истечении которого клиент должен полностью погасить задолженность. После полного погашения клиенту снова доступен кредитный лимит в полном объёме, таким образом, в течение установленного периода происходит полное погашение овердрафта и возможность возникновения нового. В случае непогашения овердрафта в указанный срок банк начинает начислять повышенные или штрафные проценты. Такой подход получил распространение в рамках зарплатных проектов в связи с удобством погашения задолженности заемщику, которому не надо посещать банк, перечисление заработной платы автоматически погашает долг по карте. В рамках таких условий банки устанавливают или фиксированное число каждого месяца (например, до 10 числа каждого месяца), или количество дней с момента возникновения задолженности. Оба подхода к срокам имеют свои плюсы и минусы, фиксированное число означает концентрацию клиентских обращений на один день, в этот день в банке происходит наплыв клиентов, возникают очереди, что приводит к ухудшению качества обслуживания. Подход с определённым сроком задолженности более сложен для отслеживания клиентом, который может просто забыть, когда он воспользовался картой в рамках овердрафта. Используя последний подход, банк распределяет посещения клиентов более-менее равномерно в течение месяца, но при этом банк должен наладить оперативное оповещение каждого клиента о необходимости погашения овердрафта за несколько дней до окончания срока действия разрешенной задолженности.\n",
      "\n"
     ]
    }
   ],
   "source": [
    "print('Question: ', queries[q_idx])\n",
    "print()\n",
    "\n",
    "for no, ir in enumerate(cos_scores[q_idx][:top_k]):\n",
    "    corpus_id = ir[\"corpus_id\"]\n",
    "    print('corpus id: ', corpus_id)\n",
    "    print(f'Document {no + 1}: Cosine Similarity is {ir[\"score\"]:.3f}:\\n\\n{docs[corpus_id]}')\n",
    "    print()"
   ]
  },
  {
   "cell_type": "markdown",
   "metadata": {
    "id": "tiRZT7mlhbPC"
   },
   "source": [
    "## Расчёт метрик: Recall@5, MRR, MAP, NDCG@10"
   ]
  },
  {
   "cell_type": "code",
   "execution_count": null,
   "metadata": {
    "id": "lXbJuJgjhDhW"
   },
   "outputs": [],
   "source": [
    "def build_target_mask_for_i(i, n):\n",
    "    target_mask = [False] * n\n",
    "    target_mask[i] = True\n",
    "    return target_mask"
   ]
  },
  {
   "cell_type": "code",
   "execution_count": null,
   "metadata": {
    "id": "DdpJ0JK3hEcP"
   },
   "outputs": [],
   "source": [
    "def build_pred_mask_for_i(\n",
    "    cos_scores,\n",
    "    i,\n",
    "    n,\n",
    "):\n",
    "    pred_mask = [0.0] * n\n",
    "    qi_scores = cos_scores[i]\n",
    "\n",
    "    for docid_score in qi_scores:\n",
    "        doc_id = docid_score['corpus_id']\n",
    "        score = docid_score['score']\n",
    "        pred_mask[int(doc_id)] = score\n",
    "\n",
    "    return pred_mask"
   ]
  },
  {
   "cell_type": "markdown",
   "metadata": {
    "id": "sYYYYVCSY3sF"
   },
   "source": [
    "### До дообучения"
   ]
  },
  {
   "cell_type": "code",
   "execution_count": null,
   "metadata": {
    "colab": {
     "base_uri": "https://localhost:8080/",
     "height": 81,
     "referenced_widgets": [
      "40c19fe834d34490b9b4a6eb5c220cf6",
      "25fc2e357b5344ac81e6e990f2ae87ef",
      "86b8403027774f068a0a2e7e7fa7c9ab",
      "96cecaa1da87484f86cc20afbd5be0b8",
      "020467edbd5443a58f8c54e4a120b754",
      "21865d781e1340dc8d8228d6f9f2efde",
      "4a9bf3738c5c4c15a11d8dbfb9f09b6a",
      "6688fa9ab990434f8cc18c939055ae9a",
      "e46832cb2e9d404f9d54b656194ed63f",
      "b0c0da1e7abd4a4f8da55f713402bbde",
      "70ee88599ffd4f3bb3668acc7d0b6baa",
      "f57cc1418258498ba6615e27940381cf",
      "a51abfb2031048ad89e4382a495663e0",
      "e52c79535df5470d9e73e6d19bc8ff0c",
      "22adebabbb32499e978c56ba7ec5f8d5",
      "6fed85f70f3e4c5794abd9b8739548b9",
      "7a37abf0d2a742198f9a70506c597673",
      "47ffc12210df4e00baf5eb98eac9d5c6",
      "b67a5a205f984ed6ac193727395244e5",
      "57c2615bce0d4e50a0feb9172e705858",
      "5094f49562b14581864e3fa468ae7479",
      "f09cbc7e9cf74cdd8b49f2c5533992b4"
     ]
    },
    "id": "Mtm67b6Gvd4M",
    "outputId": "0ba34ed4-1036-479a-f51b-967184230784"
   },
   "outputs": [
    {
     "data": {
      "application/vnd.jupyter.widget-view+json": {
       "model_id": "40c19fe834d34490b9b4a6eb5c220cf6",
       "version_major": 2,
       "version_minor": 0
      },
      "text/plain": [
       "Batches:   0%|          | 0/6 [00:00<?, ?it/s]"
      ]
     },
     "metadata": {},
     "output_type": "display_data"
    },
    {
     "data": {
      "application/vnd.jupyter.widget-view+json": {
       "model_id": "f57cc1418258498ba6615e27940381cf",
       "version_major": 2,
       "version_minor": 0
      },
      "text/plain": [
       "Batches:   0%|          | 0/6 [00:00<?, ?it/s]"
      ]
     },
     "metadata": {},
     "output_type": "display_data"
    }
   ],
   "source": [
    "init_context_embs = bi_encoder.encode(\n",
    "    queries,\n",
    "    convert_to_tensor=True,\n",
    "    show_progress_bar=True,\n",
    ")\n",
    "\n",
    "init_question_embs = bi_encoder.encode(\n",
    "    docs,\n",
    "    convert_to_tensor=True,\n",
    "    show_progress_bar=True,\n",
    ")"
   ]
  },
  {
   "cell_type": "code",
   "execution_count": null,
   "metadata": {
    "id": "hUZ2r8EtvcTn"
   },
   "outputs": [],
   "source": [
    "init_cos_scores = util.semantic_search(init_question_embs, init_context_embs, top_k=100)"
   ]
  },
  {
   "cell_type": "code",
   "execution_count": null,
   "metadata": {
    "id": "OYNO3YeA4CHT"
   },
   "outputs": [],
   "source": [
    "from statistics import mean\n",
    "from torchmetrics.functional.retrieval import retrieval_reciprocal_rank, retrieval_average_precision, \\\n",
    "    retrieval_normalized_dcg, retrieval_recall"
   ]
  },
  {
   "cell_type": "code",
   "execution_count": null,
   "metadata": {
    "colab": {
     "base_uri": "https://localhost:8080/"
    },
    "id": "ZH2dPZSGvb0h",
    "outputId": "d9483a0f-765c-46ae-e3e2-fc5e14b86d9e"
   },
   "outputs": [
    {
     "name": "stdout",
     "output_type": "stream",
     "text": [
      "mean recall5@891:  0.8802395209580839\n",
      "mean mrr:  0.7874251500575128\n",
      "mean rmAP:  0.7874251500575128\n",
      "mean ndcg10@891:  0.8226817610734951\n"
     ]
    }
   ],
   "source": [
    "r5s = []\n",
    "mrrs = []\n",
    "rmaps = []\n",
    "ndcgs = []\n",
    "\n",
    "for i in range(len(queries)):\n",
    "    pred = build_pred_mask_for_i(init_cos_scores, i=i, n=len(docs))\n",
    "    target = build_target_mask_for_i(i=i, n=len(docs))\n",
    "\n",
    "    pred = torch.tensor(pred)\n",
    "    target = torch.tensor(target)\n",
    "\n",
    "    r5 = retrieval_recall(preds=pred, target=target, top_k=5).item()\n",
    "    mrr = retrieval_reciprocal_rank(preds=pred, target=target, top_k=5).item()\n",
    "    rmap = retrieval_average_precision(preds=pred, target=target, top_k=5).item()\n",
    "    ndcg = retrieval_normalized_dcg(preds=pred, target=target, top_k=10).item()\n",
    "\n",
    "    r5s.append(r5)\n",
    "    mrrs.append(mrr)\n",
    "    rmaps.append(rmap)\n",
    "    ndcgs.append(ndcg)\n",
    "\n",
    "print(f'mean recall5@{len(docs)}: ', mean(r5s))\n",
    "print('mean mrr: ', mean(mrrs))\n",
    "print('mean rmAP: ', mean(rmaps))\n",
    "print(f'mean ndcg10@{len(docs)}: ', mean(ndcgs))"
   ]
  },
  {
   "cell_type": "markdown",
   "metadata": {
    "id": "D2XInEzsY0Vz"
   },
   "source": [
    "### После дообучения"
   ]
  },
  {
   "cell_type": "code",
   "execution_count": null,
   "metadata": {
    "colab": {
     "base_uri": "https://localhost:8080/"
    },
    "id": "n31BHslLhiTj",
    "outputId": "0059f858-4d6e-4565-d317-f3d56f05f5b4"
   },
   "outputs": [
    {
     "name": "stdout",
     "output_type": "stream",
     "text": [
      "mean recall5@167:  0.8922155688622755\n",
      "mean mrr:  0.7750499006695376\n",
      "mean rmAP:  0.7750499006695376\n",
      "mean ndcg10@167:  0.8236740049487816\n"
     ]
    }
   ],
   "source": [
    "r5s = []\n",
    "mrrs = []\n",
    "rmaps = []\n",
    "ndcgs = []\n",
    "\n",
    "for i in range(len(queries)):\n",
    "    pred = build_pred_mask_for_i(cos_scores, i=i, n=len(docs))\n",
    "    target = build_target_mask_for_i(i=i, n=len(docs))\n",
    "\n",
    "    pred = torch.tensor(pred)\n",
    "    target = torch.tensor(target)\n",
    "\n",
    "    r5 = retrieval_recall(preds=pred, target=target, top_k=5).item()\n",
    "    mrr = retrieval_reciprocal_rank(preds=pred, target=target, top_k=5).item()\n",
    "    rmap = retrieval_average_precision(preds=pred, target=target, top_k=5).item()\n",
    "    ndcg = retrieval_normalized_dcg(preds=pred, target=target, top_k=10).item()\n",
    "\n",
    "    r5s.append(r5)\n",
    "    mrrs.append(mrr)\n",
    "    rmaps.append(rmap)\n",
    "    ndcgs.append(ndcg)\n",
    "\n",
    "print(f'mean recall5@{len(docs)}: ', mean(r5s))\n",
    "print('mean mrr: ', mean(mrrs))\n",
    "print('mean rmAP: ', mean(rmaps))\n",
    "print(f'mean ndcg10@{len(docs)}: ', mean(ndcgs))"
   ]
  },
  {
   "cell_type": "markdown",
   "metadata": {
    "id": "nfrKLO-1fkSW"
   },
   "source": [
    "# Выводы"
   ]
  },
  {
   "cell_type": "markdown",
   "metadata": {
    "id": "FcATpDKNflrs"
   },
   "source": [
    "**Метрики близости**\n",
    "\n",
    "|Метрика|Initial|Fine-Tuned|Изменение|\n",
    "|-------|-------|----------|---------|\n",
    "|Pearson (cosine)|0.765|0.879|+0.114|\n",
    "|Spearman (cosine)|0.778|0.840|+0.062|\n",
    "\n",
    "1. Метрики в целом высокие `~0.85`\n",
    "2. `Pearson` вырос на `11%`\n",
    "* Модель стала лучше соотносить абсолютные значения косинусной близости с истинной релевантностью\n",
    "3. `Spearman` вырос на `6%`\n",
    "* Модель стала лучше ранжировать релевантные документы\n",
    "4. **Общий вывод по метрикам близости:**<br>Модель после дообучения научилась более уверенно и последовательно оценивать релевантность контекстов(ответов) к вопросам (запросам) — как в абсолютных значениях близости, так и в порядке их следования.<br>**Fine-tuning дал ощутимый прирост в понимании связей между вопросом и ответом.**\n",
    "\n",
    "**Метрики ранжирования**\n",
    "\n",
    "|Метрика|Initial|Fine-Tuned|Изменение|\n",
    "|-------|-------|----------|---------|\n",
    "|Recall5@167|0.880|0.892|+0.012|\n",
    "|MRR|0.787|0.775|-0.012|\n",
    "|rmAP|0.787|0.775|-0.012|\n",
    "|NDCG10@167|0.822|0.823|~0|\n",
    "\n",
    "1. Метрики:\n",
    "- recall@5 немного улучшился\n",
    "- ndcg@10 остался почти таким же\n",
    "- mrr и rmAP немного просели (что может указывать на ухудшение точности ранжирования верхних позиций)\n",
    "2. Модель, несмотря на свой размер, уже из коробки отлично ранжирует ответы\n",
    "    - `Recall@5 = 0.88` — уже высокая метрика.\n",
    "3. Ответы так или иначе отвечают на вопрос. Однако следует вчитываться. Возможно это особенность ответов в датасете `sberquad` т.к. ответы длинные и изначально широкого спектра."
   ]
  }
 ],
 "metadata": {
  "accelerator": "GPU",
  "colab": {
   "gpuType": "T4",
   "provenance": []
  },
  "kernelspec": {
   "display_name": "Python 3",
   "name": "python3"
  },
  "language_info": {
   "name": "python"
  }
 },
 "nbformat": 4,
 "nbformat_minor": 0
}
